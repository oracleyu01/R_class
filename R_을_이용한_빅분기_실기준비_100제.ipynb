{
  "nbformat": 4,
  "nbformat_minor": 0,
  "metadata": {
    "colab": {
      "provenance": [],
      "authorship_tag": "ABX9TyOb6TH5PjVc/NeJza911SYX",
      "include_colab_link": true
    },
    "kernelspec": {
      "name": "ir",
      "display_name": "R"
    },
    "language_info": {
      "name": "R"
    }
  },
  "cells": [
    {
      "cell_type": "markdown",
      "metadata": {
        "id": "view-in-github",
        "colab_type": "text"
      },
      "source": [
        "<a href=\"https://colab.research.google.com/github/oracleyu01/R_class/blob/main/R_%EC%9D%84_%EC%9D%B4%EC%9A%A9%ED%95%9C_%EB%B9%85%EB%B6%84%EA%B8%B0_%EC%8B%A4%EA%B8%B0%EC%A4%80%EB%B9%84_100%EC%A0%9C.ipynb\" target=\"_parent\"><img src=\"https://colab.research.google.com/assets/colab-badge.svg\" alt=\"Open In Colab\"/></a>"
      ]
    },
    {
      "cell_type": "code",
      "execution_count": 9,
      "metadata": {
        "id": "_ur7aFlwm0eY"
      },
      "outputs": [],
      "source": [
        "▣▣ 빅데이터 분석기사 실기 준비를 위한 R 수업전체 목차 ▣▣\n",
        "\n",
        " 1. R 기본 문법 마스터 하기\n",
        " 2. R 을 이용하여 유형1번 준비하기\n",
        " 3. R 을 이용하여 유형2번 준비하기\n",
        " 4. R 을 이용하여 유형3번 준비하기\n",
        " 5. 유형1번 시험1회부터 기출문제 풀이\n",
        " 6. 유형2번 시험1회부터 기출문제 풀이\n",
        " 7. 유형3번 시험1회부터 기출문제 풀이\n",
        " 8. 시험 환경에서 꼭 챙겨야할 팁들 !"
      ]
    },
    {
      "cell_type": "code",
      "source": [
        "#▣ 1. R 기본 문법 마스터 하기"
      ],
      "metadata": {
        "id": "Vw7IADiqv5f3"
      },
      "execution_count": null,
      "outputs": []
    },
    {
      "cell_type": "code",
      "source": [
        "\n",
        "▣▣ 예제1. R 을 배워야하는 이유 ?\n",
        "\n",
        "  데이터 분석가나 데이터 엔지니어 모집요강에 SQL과 R, Python은 필수 입니다.\n",
        "\n",
        "데이터 분석이 필요한 이유 ?\n",
        "\n",
        " 카카오톡이 2010년 3월에 서비스를 시작한 이후에 폭발적으로 성장해서\n",
        " 2012년 말에 8000 만명의 가입자를 넘어섰습니다.\n",
        " 하루 평균 43분간 카카오톡을하고 하루 방문자가 2700 만명,\n",
        " 하루 최대 메세지 이용건수가 42억건에 달합니다.\n",
        "\n",
        " 문자해 ---카톡해\n",
        "\n",
        " 이런 성공에도 불구하고 초창기때 마땅한 수익 모델이 없어서\n",
        "\n",
        " 2010년 41억 적자\n",
        " 2011년 153억 적자\n",
        "                <----------- 데이터 분석가가 카톡 사용자들에 대한 data  분석을 한 다음\n",
        "\n",
        " 2012년에 애니팡의 인기에 힘입어 흑자라인으로 돌아섰습니다.\n",
        " 개발자 통장에 하루 1억씩 입금\n",
        "\n",
        " 데이터 분석을 어떻게 했는가 ?\n",
        "\n",
        " 카톡 사용자들을 분석했는데\n",
        "\n",
        " 1. 누가(성별,연령)\n",
        " 2. 무엇을(게임 아이템)\n",
        " 3. 언제 (아이템 구매시간)\n",
        " 4. 얼마나 (아이템 구매빈도)\n",
        " 5. 어떻게 (결제방법)\n"
      ],
      "metadata": {
        "id": "wpo0Eoia6z4O"
      },
      "execution_count": null,
      "outputs": []
    },
    {
      "cell_type": "code",
      "source": [
        "■ R 이란 무엇인가 ?\n",
        "\n",
        "  뉴질랜드 aukland  대학교에서 1995년도에 개발한 소프트웨어입니다.\n",
        "  데이터 분석을 위한 통계 및 그래픽스를 지원하는 무료 소트프웨어입니다.\n",
        "\n",
        "■ R 을 왜 사용해야하는가 ?\n",
        "\n",
        " 1. R  is  free\n",
        " 2. 데이터 분석을 위해서 가장 많이 쓰는 통계 플랫폼\n",
        " 3. 파이썬 보다 훨씬 훌륭한 통계 패키지들이 많습니다.\n",
        " 4. 누구든지 유용한 패키지를 생성해서 공유할 수 있고 새로운 기능에 대한 전달이 빠름\n",
        " 5. 데이터 시각화가 예술입니다."
      ],
      "metadata": {
        "id": "7CfysX52uujq"
      },
      "execution_count": null,
      "outputs": []
    },
    {
      "cell_type": "code",
      "source": [
        "▣▣ 예제2. 구글 코렙에서 R 사용하기\n",
        "\n",
        "■ 실습에 필요한 데이터를 구글 코렙에 올립니다.\n",
        "\n",
        "데이터는 아래의 주소에서 다운받으시면 됩니다.\n",
        "\n",
        "https://cafe.daum.net/oracleoracle/Smgg/1\n",
        "\n",
        "다운받고 압축을 푸시면 csv 파일이 여러개 보이는데 그 파일들을 코렙 화면 오른쪽에 네모 박스(파일)\n",
        "을 누르시고 화살표 위 모양으로 된 업로드 버튼을 누르시고 올리시면 됩니다."
      ],
      "metadata": {
        "id": "GXObZHKbwzB-"
      },
      "execution_count": null,
      "outputs": []
    },
    {
      "cell_type": "code",
      "source": [
        "# emp.csv 파일을 불러와서 데이터 프레임을 출력하시오\n",
        "\n",
        "emp <- read.csv(\"emp.csv\", header=T)\n",
        "emp"
      ],
      "metadata": {
        "id": "n2A6KbiA7JyD"
      },
      "execution_count": null,
      "outputs": []
    },
    {
      "cell_type": "code",
      "source": [
        "▣▣ 예제3. SQL 과  R 과의 차이점은 무엇인가 ?\n",
        "\n",
        " 1. R 은 데이터 시각화가 됩니다.\n",
        " 2. 아주 긴 SQL 코드를  R 코드로는 단순하게 작성할 수 있습니다.\n",
        " 3. 아주 훌륭한 데이터 분석 패키지들이 많이 있습니다.\n",
        "\n",
        "예:\n",
        "\n",
        "SQL> select  job, sum(decode(deptno, 10, sal, null ) )  as \"10\",\n",
        "                   sum(decode(deptno, 20, sal, null ) )  as \"20\",\n",
        "                    sum(decode(deptno, 30, sal, null ) )  as \"30\"\n",
        "      from  emp\n",
        "      group  by   job;"
      ],
      "metadata": {
        "id": "WnR3LMsn7SbH"
      },
      "execution_count": null,
      "outputs": []
    },
    {
      "cell_type": "code",
      "source": [
        "attach(emp)\n",
        "\n",
        "tapply( sal,  list(job, deptno), sum )"
      ],
      "metadata": {
        "colab": {
          "base_uri": "https://localhost:8080/",
          "height": 223
        },
        "id": "MiNm8P9c7fpd",
        "outputId": "68069a64-c101-49f2-a29e-8b4cf3801caa"
      },
      "execution_count": 18,
      "outputs": [
        {
          "output_type": "display_data",
          "data": {
            "text/html": [
              "<table class=\"dataframe\">\n",
              "<caption>A matrix: 5 × 3 of type int</caption>\n",
              "<thead>\n",
              "\t<tr><th></th><th scope=col>10</th><th scope=col>20</th><th scope=col>30</th></tr>\n",
              "</thead>\n",
              "<tbody>\n",
              "\t<tr><th scope=row>ANALYST</th><td>  NA</td><td>6000</td><td>  NA</td></tr>\n",
              "\t<tr><th scope=row>CLERK</th><td>1300</td><td>1900</td><td> 950</td></tr>\n",
              "\t<tr><th scope=row>MANAGER</th><td>2450</td><td>2975</td><td>2850</td></tr>\n",
              "\t<tr><th scope=row>PRESIDENT</th><td>5000</td><td>  NA</td><td>  NA</td></tr>\n",
              "\t<tr><th scope=row>SALESMAN</th><td>  NA</td><td>  NA</td><td>5600</td></tr>\n",
              "</tbody>\n",
              "</table>\n"
            ],
            "text/markdown": "\nA matrix: 5 × 3 of type int\n\n| <!--/--> | 10 | 20 | 30 |\n|---|---|---|---|\n| ANALYST |   NA | 6000 |   NA |\n| CLERK | 1300 | 1900 |  950 |\n| MANAGER | 2450 | 2975 | 2850 |\n| PRESIDENT | 5000 |   NA |   NA |\n| SALESMAN |   NA |   NA | 5600 |\n\n",
            "text/latex": "A matrix: 5 × 3 of type int\n\\begin{tabular}{r|lll}\n  & 10 & 20 & 30\\\\\n\\hline\n\tANALYST &   NA & 6000 &   NA\\\\\n\tCLERK & 1300 & 1900 &  950\\\\\n\tMANAGER & 2450 & 2975 & 2850\\\\\n\tPRESIDENT & 5000 &   NA &   NA\\\\\n\tSALESMAN &   NA &   NA & 5600\\\\\n\\end{tabular}\n",
            "text/plain": [
              "          10   20   30  \n",
              "ANALYST     NA 6000   NA\n",
              "CLERK     1300 1900  950\n",
              "MANAGER   2450 2975 2850\n",
              "PRESIDENT 5000   NA   NA\n",
              "SALESMAN    NA   NA 5600"
            ]
          },
          "metadata": {}
        }
      ]
    },
    {
      "cell_type": "code",
      "source": [
        "pie( emp$sal,  col=rainbow(14) )"
      ],
      "metadata": {
        "colab": {
          "base_uri": "https://localhost:8080/",
          "height": 437
        },
        "id": "pfUow2Wm7baB",
        "outputId": "40fef0df-0e8c-47b9-f62e-c52e7d89aec2"
      },
      "execution_count": 19,
      "outputs": [
        {
          "output_type": "display_data",
          "data": {
            "text/plain": [
              "plot without title"
            ],
            "image/png": "[encoded data removed]"
          },
          "metadata": {
            "image/png": {
              "width": 420,
              "height": 420
            }
          }
        }
      ]
    },
    {
      "cell_type": "code",
      "source": [
        "▣▣ 예제4. R의 자료 구조 5가지\n",
        "\n",
        "관련그림 : https://cafe.daum.net/oracleoracle/Sotv/4\n",
        "\n",
        "1. vector : 같은 데이터 타입을 갖는 1차원 배열구조\n",
        "2. matrix : 같은 데이터 타입을 갖는 2차원 배열구조\n",
        "3. array   : 같은 데이터 타입을 갖는 다차원 배열구조\n",
        "4. dataframe : 서로 다른 데이터 타입을 갖는 2차원 배열구조(오라클의 테이블)\n",
        "5. list :  서로 다른 데이터 구조(vector, matrix, array, dataframe) 인 데이터 타입이 중첩된 구조\n"
      ],
      "metadata": {
        "id": "LkOA66EaraRD"
      },
      "execution_count": null,
      "outputs": []
    },
    {
      "cell_type": "code",
      "source": [
        "■ 실습예제1.  emp 데이터 프레임의 구조를 확인하시오 !\n",
        "\n",
        "str(emp)\n"
      ],
      "metadata": {
        "id": "L1M_9NBd9QG1"
      },
      "execution_count": null,
      "outputs": []
    },
    {
      "cell_type": "code",
      "source": [
        "▣▣ 예제5. 데이터 검색하기\n",
        "\n",
        "문법 :    데이터 프레임에서 데이터 검색하는 문법\n",
        "\n",
        ">  emp[ 행 ,  열 ]\n",
        "\n",
        ">  emp[          , c(\"ename\",\"sal\") ]\n",
        "                   ↑\n",
        "                combine\n",
        "\n",
        ">  emp[  emp$sal >= 3000,  c(\"ename\",\"sal\",\"job\") ]\n"
      ],
      "metadata": {
        "id": "jQtTLd805id8"
      },
      "execution_count": null,
      "outputs": []
    },
    {
      "cell_type": "code",
      "source": [
        "# 문제1.  직업이 SALESMAN 인 사원들의 이름과 월급과 직업을 출력하시오 !\n",
        "\n",
        "#답:\n",
        "\n"
      ],
      "metadata": {
        "id": "eLYdcMH85wbz"
      },
      "execution_count": null,
      "outputs": []
    },
    {
      "cell_type": "code",
      "source": [
        "▣▣ 예제6. R 연산자 3가지\n",
        "\n",
        " 1. 산술 연산자  :  *   /   +    -\n",
        " 2. 비교 연산자  :   >,  <, >=, <=, ==, !=\n",
        " 3. 논리 연산자  :   &   : and  (백터화된 연산)\n",
        "                    &&  : and  (백터화 되지 않은 연산)\n",
        "                     |   :  or   (백터화된 연산)\n",
        "                    ||   :   or  (백터화 되지 않은 연산)\n",
        "                    !    :   not"
      ],
      "metadata": {
        "id": "Uup0s_aS6ZeN"
      },
      "execution_count": null,
      "outputs": []
    },
    {
      "cell_type": "code",
      "source": [
        "■ 실습예제1.  직업이 SALESMAN 이고 월급이 1200 이상인 사원들의 이름과 월급과 직업을 출력하시오 !\n",
        "\n",
        "> emp[ (emp$job=='SALESMAN') & ( emp$sal >= 1200 ), c(\"ename\",\"sal\",\"job\") ]\n",
        "\n",
        "설명: emp$job 의 데이터 유형이 vector 입니다.\n",
        "      이런 vector 를 가지고 and 를 사용해야할 때는 &  를 쓰면 됩니다.\n"
      ],
      "metadata": {
        "id": "TbNPru5r6ZlR"
      },
      "execution_count": null,
      "outputs": []
    },
    {
      "cell_type": "code",
      "source": [
        "■ 실습예제2.  백터화 되지 않은 연산으로 and 를 사용해보시오 !\n",
        "\n",
        "# x 라는 백터를 생성했습니다.\n",
        "\n",
        ">  x <- c(1,2,3)\n",
        ">  x\n",
        ">  x > c(1,1,1)  &  x < c(3,3,3)\n",
        "\n",
        "# 백터화 되지 않은 and 연산은 다음과 같습니다.\n",
        "\n",
        "> x <- 1\n",
        "> str(x)\n",
        "\n",
        "요소가 1개밖에 없기 때문에 배열은 아닙니다.\n",
        "백터는 같은 데이터 타입을 같는 1차원 배열구조가 벡터인데\n",
        "위의 x 변수는 값이 1개니까 백터는 아닙니다.\n",
        "백터는 아니고 숫자 1개를 담은 숫자형 변수입니다.\n",
        "\n",
        ">   x <- 1\n",
        ">   x > -2    &&   x < 2\n"
      ],
      "metadata": {
        "id": "rkxSGVGI6Zog"
      },
      "execution_count": null,
      "outputs": []
    },
    {
      "cell_type": "code",
      "source": [
        "#문제2. 부서번호가 10번 이거나  직업이 SALESMAN인 사원들의 이름과 월급과\n",
        "#       직업과 부서번호를 출력하시오 !\n",
        "\n",
        "#답:\n"
      ],
      "metadata": {
        "id": "DQTMEFLW6Z5W"
      },
      "execution_count": null,
      "outputs": []
    },
    {
      "cell_type": "code",
      "source": [
        "#문제3. (빅분기 실기 기출유형1)  직업이 SALESMAN 이고 부서번호가 30번인 사원들이\n",
        "#       전부 몇명이 있는지 출력하시오 !\n",
        "\n",
        "#답:\n"
      ],
      "metadata": {
        "id": "NbOzilBn6Z8l"
      },
      "execution_count": null,
      "outputs": []
    },
    {
      "cell_type": "code",
      "source": [
        "\n",
        "▣▣ 예제7. 연결 연산자를 알아야해요 !\n",
        "\n",
        " R 에서의 연결 연산자는   paste    입니다.\n",
        "\n",
        "문법:\n",
        "SQL>  select  ename  ||  ' 의 직업은 '  ||  job\n",
        "           from  emp;\n",
        "\n",
        "R>  paste( emp$ename , ' 의 직업은 ' , emp$job  )\n",
        "\n",
        "오라클처럼 결과를 예쁘게 보고 싶으면 패키지를 설치를 해야합니다.\n",
        "\n",
        "1. data.table 패키지를 설치합니다.\n",
        "\n",
        "install.packages(\"data.table\")\n",
        "\n",
        "2. data.table 패키지를 사용하겠다고 지정합니다.\n",
        "\n",
        "library(data.table)\n",
        "\n",
        "3. data.table 을 이용해서 이름과 직업을 출력합니다.\n",
        "\n",
        "data.table( emp$ename, ' 의 직업은 ', emp$job )\n",
        "\n",
        "4. data.table 패키지에 대한 사용 메뉴얼을 여시오\n",
        "\n",
        "?data.table\n"
      ],
      "metadata": {
        "id": "8v8cg4Ys6Z_t"
      },
      "execution_count": null,
      "outputs": []
    },
    {
      "cell_type": "code",
      "source": [
        "# 문제4.  아래와 같이 이름과 직업을 연결해서 출력하세요\n",
        "\n",
        "MARTIN\t의 직업은\tSALESMAN\n",
        "ALLEN\t의 직업은\tSALESMAN\n",
        "TURNER\t의 직업은\tSALESMAN\n",
        "WARD\t의 직업은\tSALESMAN"
      ],
      "metadata": {
        "id": "nvGyWU9Y6aDX"
      },
      "execution_count": null,
      "outputs": []
    },
    {
      "cell_type": "code",
      "source": [
        "#답:\n",
        "\n"
      ],
      "metadata": {
        "id": "vDbtRaRrASZt"
      },
      "execution_count": null,
      "outputs": []
    },
    {
      "cell_type": "code",
      "source": [
        "library(data.table)\n",
        "data.table( result$ename, ' 의 직업은 ' , result$job )\n"
      ],
      "metadata": {
        "id": "8SRJlCss_TIs"
      },
      "execution_count": null,
      "outputs": []
    },
    {
      "cell_type": "code",
      "source": [
        "▣▣ 예제8. 여러개의 데이터를 검색할 때는 %in% 를 사용해야해요 !\n",
        "\n",
        " 오라클의 기타 비교연산자 4가지와 R  과의 비교  !\n",
        "\n",
        "                  SQL                        vs               R\n",
        "\n",
        " 1.               in                                           %in%\n",
        " 2.               like                                         grep\n",
        " 3.              is  null                                      is.na\n",
        " 4.            between ..  and                    (emp$sal >= 1000 ) & (emp$sal <=3000)\n"
      ],
      "metadata": {
        "id": "m73bWwqq_d-g"
      },
      "execution_count": null,
      "outputs": []
    },
    {
      "cell_type": "code",
      "source": [
        "■ 실습예제1. 직업이 SALESMAN , ANALYST 인 사원들의 이름과 월급과 직업을 출력하시오\n",
        "\n",
        "답: emp[ emp$job  %in% c(\"SALESMAN\", \"ANALYST\"), c(\"ename\",\"sal\",\"job\") ]"
      ],
      "metadata": {
        "id": "r9Bse3wV_eBi"
      },
      "execution_count": null,
      "outputs": []
    },
    {
      "cell_type": "code",
      "source": [
        "문제5.  부서번호가 10번, 20번인 사원들의 이름과 월급과 부서번호를 출력하시오 !\n",
        "\n"
      ],
      "metadata": {
        "id": "lH6Bk26w_eEk"
      },
      "execution_count": null,
      "outputs": []
    },
    {
      "cell_type": "code",
      "source": [
        "#답:\n"
      ],
      "metadata": {
        "id": "c2_eWOW_F66L"
      },
      "execution_count": null,
      "outputs": []
    },
    {
      "cell_type": "code",
      "source": [
        "문제6. 부서번호가 10번, 20번이 아닌 사원들의 이름과 월급과 부서번호를 출력하시오 !\n",
        "\n"
      ],
      "metadata": {
        "id": "KYcATUco_ePS"
      },
      "execution_count": null,
      "outputs": []
    },
    {
      "cell_type": "code",
      "source": [
        "#답:\n"
      ],
      "metadata": {
        "id": "kA37-oxiF-Y0"
      },
      "execution_count": null,
      "outputs": []
    },
    {
      "cell_type": "code",
      "source": [
        "▣▣ 예제9. 결측치 데이터를 검색할 때는 is.na 함수를 사용해야해요 !\n",
        "\n",
        " 데이터 분석은 결측치 처리를 어떻게 해야하는가가 가장 중요합니다.\n",
        " 결측치가 얼마나 있는지 조사해서 적절한 다른 데이터로 변경할 수 있어야합니다.\n",
        " 변경할 다른 데이터는\n",
        " 숫자의 경우는 평균값이 될 수 있고 문자의 경우는 최빈값이 될 수 있습니다\n",
        ""
      ],
      "metadata": {
        "id": "wHpBXujgCwom"
      },
      "execution_count": null,
      "outputs": []
    },
    {
      "cell_type": "code",
      "source": [
        "■ 실습예제1.  커미션이 null 인 사원들의 이름과 커미션을 출력하시오 !\n"
      ],
      "metadata": {
        "id": "usbTfpcOCwst"
      },
      "execution_count": null,
      "outputs": []
    },
    {
      "cell_type": "code",
      "source": [
        "emp[  is.na( emp$comm ),  c(\"ename\", \"comm\") ]"
      ],
      "metadata": {
        "id": "RQwuGlQADmKY"
      },
      "execution_count": null,
      "outputs": []
    },
    {
      "cell_type": "code",
      "source": [
        "■ 실습예제2. 커미션이 null 이 아닌 사원들의 이름과 커미션을 출력하시오 !\n"
      ],
      "metadata": {
        "id": "WZ4MZlAgCwv3"
      },
      "execution_count": null,
      "outputs": []
    },
    {
      "cell_type": "code",
      "source": [
        "emp[ ! is.na( emp$comm ),  c(\"ename\", \"comm\") ]"
      ],
      "metadata": {
        "id": "h9-s37omDof2"
      },
      "execution_count": null,
      "outputs": []
    },
    {
      "cell_type": "code",
      "source": [
        "문제7.  사원 테이블에 커미션이  null 인 사원들은 모두 몇명인가 ?\n"
      ],
      "metadata": {
        "id": "ZwvgVsUaCwyn"
      },
      "execution_count": null,
      "outputs": []
    },
    {
      "cell_type": "code",
      "source": [
        "# 답:\n",
        "\n"
      ],
      "metadata": {
        "colab": {
          "base_uri": "https://localhost:8080/"
        },
        "id": "in4YCGg2Df2r",
        "outputId": "04cd1aad-217f-4b9d-ca5a-0b5af5085129"
      },
      "execution_count": 27,
      "outputs": [
        {
          "output_type": "stream",
          "name": "stdout",
          "text": [
            "[1] 10\n"
          ]
        }
      ]
    },
    {
      "cell_type": "code",
      "source": [
        "※ 현장에서 자주사용하는 결측치 검색 팁 !\n",
        "\n",
        " emp 데이터 프레임에 결측치가 어떻게 있는지 한번에 확인하는 방법 !\n"
      ],
      "metadata": {
        "id": "yqoMfSPbCw1P"
      },
      "execution_count": null,
      "outputs": []
    },
    {
      "cell_type": "code",
      "source": [
        "colSums(is.na(emp))"
      ],
      "metadata": {
        "id": "fOozahaVD0N7"
      },
      "execution_count": null,
      "outputs": []
    },
    {
      "cell_type": "code",
      "source": [
        "문제8. tatanic2.csv  데이터를 데이터 프레임으로 생성하고\n",
        "       결측치가 얼마나 있는지 가장 결측치가 많은 컬럼은 어떤건지 확인하시오 !\n",
        "\n",
        " 데이터 있는곳: https://cafe.daum.net/oracleoracle/Soei/22"
      ],
      "metadata": {
        "id": "zskklDPaCw4w"
      },
      "execution_count": null,
      "outputs": []
    },
    {
      "cell_type": "code",
      "source": [
        "#답:\n"
      ],
      "metadata": {
        "id": "ZGjRh4IuDbPL"
      },
      "execution_count": null,
      "outputs": []
    },
    {
      "cell_type": "code",
      "source": [
        "▣ 예제10. 범위 데이터를 검색할 수 있어야해요 !\n",
        "\n",
        " 월급이 1000 에서 3000 사이인 사원들의 이름과 월급을 출력하시오 !\n",
        ""
      ],
      "metadata": {
        "id": "WgYDheRzCw8U"
      },
      "execution_count": null,
      "outputs": []
    },
    {
      "cell_type": "code",
      "source": [
        "emp <- read.csv(\"emp.csv\", header=T)\n",
        "emp[ (emp$sal >= 1000) & (emp$sal <= 3000), c(\"ename\",\"sal\") ]"
      ],
      "metadata": {
        "id": "4SF9YBHsD5v0"
      },
      "execution_count": null,
      "outputs": []
    },
    {
      "cell_type": "code",
      "source": [
        "문제9. 월급이 1000 에서 3000 사이가 아닌 사원들의 이름과 월급을 출력하시오 !"
      ],
      "metadata": {
        "id": "hsA1v7oWEAOP"
      },
      "execution_count": null,
      "outputs": []
    },
    {
      "cell_type": "code",
      "source": [
        "\n"
      ],
      "metadata": {
        "id": "K5PfetC9Cw_Z"
      },
      "execution_count": null,
      "outputs": []
    },
    {
      "cell_type": "code",
      "source": [
        "또는"
      ],
      "metadata": {
        "id": "y02BPa0yEGy-"
      },
      "execution_count": null,
      "outputs": []
    },
    {
      "cell_type": "code",
      "source": [
        "\n"
      ],
      "metadata": {
        "id": "Mfag9PviEC4j"
      },
      "execution_count": null,
      "outputs": []
    },
    {
      "cell_type": "code",
      "source": [
        "문제10. (빅분기 시험용 데이터)  미국 보스톤 집값 데이터 boston 이라는\n",
        "        데이터 프레임으로 생성하시오 !\n",
        "\n",
        "데이터 있는곳 : https://cafe.daum.net/oracleoracle/Soei/25\n"
      ],
      "metadata": {
        "id": "vxv8v4FTCxB_"
      },
      "execution_count": null,
      "outputs": []
    },
    {
      "cell_type": "code",
      "source": [
        "boston <- read.csv(\"boston.csv\", header=T)\n",
        "boston"
      ],
      "metadata": {
        "id": "f-Vh0CTpCxE0"
      },
      "execution_count": null,
      "outputs": []
    },
    {
      "cell_type": "code",
      "source": [
        "문제11. (빅분기 시험용)  보스톤 집값(price)이  10 ~ 30 사이의 해당하는\n",
        "        데이터가 전부 몇건인지 출력하시오 ! (10과 30도 포함시키세요)\n",
        "\n"
      ],
      "metadata": {
        "id": "Gz6vA4KpCxHX"
      },
      "execution_count": null,
      "outputs": []
    },
    {
      "cell_type": "code",
      "source": [
        "# 컬럼명만 추출하기\n",
        "\n",
        "names(boston)"
      ],
      "metadata": {
        "colab": {
          "base_uri": "https://localhost:8080/",
          "height": 34
        },
        "id": "xTqiIvB0CxJ1",
        "outputId": "e33d2980-3aee-4664-8d83-2f5eada87076"
      },
      "execution_count": 31,
      "outputs": [
        {
          "output_type": "display_data",
          "data": {
            "text/html": [
              "<style>\n",
              ".list-inline {list-style: none; margin:0; padding: 0}\n",
              ".list-inline>li {display: inline-block}\n",
              ".list-inline>li:not(:last-child)::after {content: \"\\00b7\"; padding: 0 .5ex}\n",
              "</style>\n",
              "<ol class=list-inline><li>'id'</li><li>'CRIM'</li><li>'ZN'</li><li>'INDUS'</li><li>'CHAS'</li><li>'NOX'</li><li>'RM'</li><li>'AGE'</li><li>'DIS'</li><li>'RAD'</li><li>'TAX'</li><li>'PTRATIO'</li><li>'B'</li><li>'LSTAT'</li><li>'price'</li></ol>\n"
            ],
            "text/markdown": "1. 'id'\n2. 'CRIM'\n3. 'ZN'\n4. 'INDUS'\n5. 'CHAS'\n6. 'NOX'\n7. 'RM'\n8. 'AGE'\n9. 'DIS'\n10. 'RAD'\n11. 'TAX'\n12. 'PTRATIO'\n13. 'B'\n14. 'LSTAT'\n15. 'price'\n\n\n",
            "text/latex": "\\begin{enumerate*}\n\\item 'id'\n\\item 'CRIM'\n\\item 'ZN'\n\\item 'INDUS'\n\\item 'CHAS'\n\\item 'NOX'\n\\item 'RM'\n\\item 'AGE'\n\\item 'DIS'\n\\item 'RAD'\n\\item 'TAX'\n\\item 'PTRATIO'\n\\item 'B'\n\\item 'LSTAT'\n\\item 'price'\n\\end{enumerate*}\n",
            "text/plain": [
              " [1] \"id\"      \"CRIM\"    \"ZN\"      \"INDUS\"   \"CHAS\"    \"NOX\"     \"RM\"     \n",
              " [8] \"AGE\"     \"DIS\"     \"RAD\"     \"TAX\"     \"PTRATIO\" \"B\"       \"LSTAT\"  \n",
              "[15] \"price\"  "
            ]
          },
          "metadata": {}
        }
      ]
    },
    {
      "cell_type": "code",
      "source": [
        "# 집값이 10~30 사이인 데이터 추출하기\n",
        "\n",
        "cnt <- boston[ (boston$price >= 10) & (boston$price <=30 ) , c(\"id\") ]\n",
        "print(length(cnt))\n"
      ],
      "metadata": {
        "id": "W6o0QfwNCxMr"
      },
      "execution_count": null,
      "outputs": []
    },
    {
      "cell_type": "code",
      "source": [
        "▣ 예제11. 특정 철자나 단어를 포함하는 검색하는 방법을 알아야해요 !\n",
        "\n",
        "       SQL                  vs              R\n",
        "\n",
        "1.       in                                  %in%\n",
        "2.      like                                 grep\n",
        "3.      is  null                            is.na\n",
        "4.     between .. and              (emp$sal >= 1000) & (emp$sal <= 3000)\n",
        "\n",
        "# 이름의 첫글자가 A 로 시작하는 사원들의 이름과 월급을 출력하시오 !\n",
        "\n",
        " emp[  grep(\"^A\", emp$ename), c(\"ename\", \"sal\") ]\n",
        "\n",
        "※ 설명:  ^ 는 시작을 나타냅니다.  예:  ^A  ---> A 로 시작하는것\n",
        "            $ 는 끝을 나타냅니다.  예:  A$  ----> A 로 끝나는것\n"
      ],
      "metadata": {
        "id": "nFe9sGmtCxPb"
      },
      "execution_count": null,
      "outputs": []
    },
    {
      "cell_type": "code",
      "source": [
        "문제12.  이름의 끝글자가 T 로 끝나는 사원들의 이름과 월급을 출력하시오 !\n"
      ],
      "metadata": {
        "id": "KkVuIcOhCxSS"
      },
      "execution_count": null,
      "outputs": []
    },
    {
      "cell_type": "code",
      "source": [
        "# 답:\n",
        "\n"
      ],
      "metadata": {
        "collapsed": true,
        "id": "rvgqZ38hCxU7"
      },
      "execution_count": null,
      "outputs": []
    },
    {
      "cell_type": "code",
      "source": [
        "문제13. 이름에 A 가 포함된 사원들의 이름과 월급을 출력하시오 !"
      ],
      "metadata": {
        "id": "aSMPM_-zCxYA"
      },
      "execution_count": null,
      "outputs": []
    },
    {
      "cell_type": "code",
      "source": [
        "# 답:\n",
        "\n"
      ],
      "metadata": {
        "id": "TCYjksS4Cxat"
      },
      "execution_count": null,
      "outputs": []
    },
    {
      "cell_type": "code",
      "source": [
        "문제14. 이름의 두번째 철자가 M 인 사원들의 이름과 월급을 출력하시오 !"
      ],
      "metadata": {
        "id": "CVcduRPNCxdf"
      },
      "execution_count": null,
      "outputs": []
    },
    {
      "cell_type": "code",
      "source": [
        "# 답:\n",
        "\n"
      ],
      "metadata": {
        "id": "JTJk_1OTCxgL"
      },
      "execution_count": null,
      "outputs": []
    },
    {
      "cell_type": "code",
      "source": [
        "문제15. 이름의 세번째 철자가 L 인 사원들의 이름과 월급을 출력하시오 !"
      ],
      "metadata": {
        "id": "hGisMGr1CxjN"
      },
      "execution_count": null,
      "outputs": []
    },
    {
      "cell_type": "code",
      "source": [
        "# 답:\n",
        "\n"
      ],
      "metadata": {
        "id": "y2qvptUHCxmG"
      },
      "execution_count": null,
      "outputs": []
    },
    {
      "cell_type": "code",
      "source": [
        "문제16. emp20.csv 를 불러와서 emp20 이라는 데이터 프레임을 생성하시오 !"
      ],
      "metadata": {
        "id": "bY9F5uY2Cxo6"
      },
      "execution_count": null,
      "outputs": []
    },
    {
      "cell_type": "code",
      "source": [
        "# 답:\n",
        "\n"
      ],
      "metadata": {
        "id": "V3VUHx6HCxr7"
      },
      "execution_count": null,
      "outputs": []
    },
    {
      "cell_type": "code",
      "source": [
        "문제17. 성씨가 김씨인 학생의 이름과 나이를 출력하시오 !"
      ],
      "metadata": {
        "id": "zmNhahRSCxui"
      },
      "execution_count": null,
      "outputs": []
    },
    {
      "cell_type": "code",
      "source": [
        "# 답:\n",
        "\n"
      ],
      "metadata": {
        "id": "VNqZ05glCxxL"
      },
      "execution_count": null,
      "outputs": []
    },
    {
      "cell_type": "code",
      "source": [
        "▣ 예제12. 데이터에서 중복을 제거 할 수 있어야해요 !\n",
        "\n",
        "       SQL              vs                 R\n",
        "\n",
        "     distinct                             unique"
      ],
      "metadata": {
        "id": "-zYY8Y7uCx0E"
      },
      "execution_count": null,
      "outputs": []
    },
    {
      "cell_type": "code",
      "source": [
        "# 직업을 출력하는데 중복을 제거해서 출력하시오 !\n",
        "\n",
        " unique(emp$job)"
      ],
      "metadata": {
        "id": "8mv1-mPrCx3D"
      },
      "execution_count": null,
      "outputs": []
    },
    {
      "cell_type": "code",
      "source": [
        "# 위의 결과를 오라클 스타일로 보고 싶다면 ?\n",
        "\n",
        " library(data.table)\n",
        " data.table( '직업' = unique(emp$job) )"
      ],
      "metadata": {
        "id": "FQo_UUxmCx6D"
      },
      "execution_count": null,
      "outputs": []
    },
    {
      "cell_type": "code",
      "source": [
        "문제18.  직업이 SALESMAN 인 사원들의 부서번호를 출력하는데 중복을 제거해서 출력하시오 !"
      ],
      "metadata": {
        "id": "QRg_0dwhCx8_"
      },
      "execution_count": null,
      "outputs": []
    },
    {
      "cell_type": "code",
      "source": [
        "# 답:\n",
        "\n"
      ],
      "metadata": {
        "id": "en46UnqNCx_7"
      },
      "execution_count": null,
      "outputs": []
    },
    {
      "cell_type": "code",
      "source": [
        "문제19.  중고차(usedcars.csv) 를 불러와서 car 라는 데이터 프레임을 생성하시오\n",
        "\n",
        " 데이터 있는곳 :  https://cafe.daum.net/oracleoracle/Soei/11"
      ],
      "metadata": {
        "id": "Naxx8ZEhCyCe"
      },
      "execution_count": null,
      "outputs": []
    },
    {
      "cell_type": "code",
      "source": [
        "# 답:\n",
        "\n"
      ],
      "metadata": {
        "id": "7FutL9zcCyFl"
      },
      "execution_count": null,
      "outputs": []
    },
    {
      "cell_type": "code",
      "source": [
        "문제20. (빅분기 문제) 중고차(usedcar.sv) 에서 모델명을 출력하는데 중복을 제거해서 출력하시오 !"
      ],
      "metadata": {
        "id": "oWXCLjiZCyIP"
      },
      "execution_count": null,
      "outputs": []
    },
    {
      "cell_type": "code",
      "source": [
        "# 답:\n",
        "\n"
      ],
      "metadata": {
        "id": "Xa9fhWLtCyLL"
      },
      "execution_count": null,
      "outputs": []
    },
    {
      "cell_type": "code",
      "source": [
        "▣ 예제13. 데이터를 정렬해서 출력할 수 있어야해요 !\n",
        "\n",
        "        SQL                    vs                         R\n",
        "\n",
        "     order  by                               dataframe 에 내장된 order 함수를 사용\n",
        "\n",
        "  좀더 쉽게 하려면 doBy 패키지를 설치하고  orderBy 함수를 이용해서 정렬합니다.\n",
        "\n",
        "문법:  이름과 월급을 출력하는데 월급이 높은 사원부터 출력하시오 !\n",
        "\n",
        " emp[  order( emp$sal, decreasing=T ), c(\"ename\",\"sal\") ]\n"
      ],
      "metadata": {
        "id": "IIJBXtVJCyOO"
      },
      "execution_count": null,
      "outputs": []
    },
    {
      "cell_type": "code",
      "source": [
        "문제21.  emp20 에서 이름과 나이를 출력하는데 나이가 높은 학생부터 출력하시오 !"
      ],
      "metadata": {
        "id": "baf7MkpQH3XG"
      },
      "execution_count": null,
      "outputs": []
    },
    {
      "cell_type": "code",
      "source": [
        "# 답:\n",
        "\n"
      ],
      "metadata": {
        "id": "l--981C5H3ag"
      },
      "execution_count": null,
      "outputs": []
    },
    {
      "cell_type": "code",
      "source": [
        "문제22. 내가 현재 접속한 R 세션에서 활성화 되어있는 변수 리스트를 출력하시오!"
      ],
      "metadata": {
        "id": "StWAQ1VNH3eF"
      },
      "execution_count": null,
      "outputs": []
    },
    {
      "cell_type": "code",
      "source": [
        "# 답:\n",
        "\n"
      ],
      "metadata": {
        "id": "irVnvQJOH3hO"
      },
      "execution_count": null,
      "outputs": []
    },
    {
      "cell_type": "code",
      "source": [
        "문제23.  emp20 변수를 현재 작업공간에서 지워버리고 싶다면 ?"
      ],
      "metadata": {
        "id": "cYf0io2TH3k3"
      },
      "execution_count": null,
      "outputs": []
    },
    {
      "cell_type": "code",
      "source": [
        "# 답:\n",
        "\n"
      ],
      "metadata": {
        "id": "o_GohWNAH3oa"
      },
      "execution_count": null,
      "outputs": []
    },
    {
      "cell_type": "code",
      "source": [
        "문제24.  R 을 사용하다보면 기존에 남아있는 변수로 인해서 데이터 분석 결과가\n",
        "         잘못 나오는 경우가 있습니다. 그럴때는 데이터 분석하기에 앞서서\n",
        "         변수들을 모두 지우고 코드를 시작할 필요가 있습니다. 변수를 모두 지우는\n",
        "         명령어는 무엇인가요 ?"
      ],
      "metadata": {
        "id": "LQMuUzK0H3rp"
      },
      "execution_count": null,
      "outputs": []
    },
    {
      "cell_type": "code",
      "source": [
        "# 답:\n",
        "\n"
      ],
      "metadata": {
        "id": "RVXve5C9H3vX"
      },
      "execution_count": null,
      "outputs": []
    },
    {
      "cell_type": "code",
      "source": [
        "#문법:  doBy 패키지를 사용해보겠습니다.\n",
        "\n",
        "library(doBy)\n",
        "\n",
        "emp <- read.csv(\"emp.csv\", header=T)\n",
        "emp20 <- read.csv(\"emp20.csv\", header=T, fileEncoding=\"euc-kr\")\n"
      ],
      "metadata": {
        "id": "V6E2O5DsH3yf"
      },
      "execution_count": null,
      "outputs": []
    },
    {
      "cell_type": "code",
      "source": [
        "#사원 테이블에서 이름과 월급을 출력하는데 월급이 높은 사원부터 출력하시오\n",
        "\n",
        "library(doBy)\n",
        "ordrBy( ~ -sal, emp[     , c(\"ename\",\"sal\") ] )"
      ],
      "metadata": {
        "id": "aMq-b1ifH31n"
      },
      "execution_count": null,
      "outputs": []
    },
    {
      "cell_type": "code",
      "source": [
        "설명:  ~ -sal :  높은것부터 출력\n",
        "       ~ sal  :  낮은것부터 출력"
      ],
      "metadata": {
        "id": "fclr-1TCH35B"
      },
      "execution_count": null,
      "outputs": []
    },
    {
      "cell_type": "code",
      "source": [
        "만약 doBy 패키지를 이용하지 않고 order 내장함수로 직업이 SALESMAN인\n",
        "사원들의 이름과 월급을 출력하는데 월급이 높은 사원부터 출력하는 결과를\n",
        "뽑으려면 코드가 여러줄이 필요합니다."
      ],
      "metadata": {
        "id": "5PIdHuYEH38A"
      },
      "execution_count": null,
      "outputs": []
    },
    {
      "cell_type": "code",
      "source": [
        "문제25.  직업이 SALESMAN 인 사원들의 이름과 월급을 출력하는데 월급이 높은 사원부터 출력하시오 !"
      ],
      "metadata": {
        "id": "-vLt2z9VH3_Q"
      },
      "execution_count": null,
      "outputs": []
    },
    {
      "cell_type": "code",
      "source": [
        "#답:\n",
        "\n"
      ],
      "metadata": {
        "id": "gzyVfaerH4CZ"
      },
      "execution_count": null,
      "outputs": []
    },
    {
      "cell_type": "code",
      "source": [
        "문제26. 이번에는 doBy 패키지 없이 문제25번을 수행하시오 !\n",
        "        ( 빅분기 시험 환경에서는 따로 패키지를 설치 할 수 없고\n",
        "          출제자가 미리 설치해놓은 패키지만 사용할 수 있습니다.)"
      ],
      "metadata": {
        "id": "YUPA5W0TH4Fq"
      },
      "execution_count": null,
      "outputs": []
    },
    {
      "cell_type": "code",
      "source": [
        "#답:\n",
        "\n"
      ],
      "metadata": {
        "id": "RSrC_xcpH4I4"
      },
      "execution_count": null,
      "outputs": []
    },
    {
      "cell_type": "code",
      "source": [
        "문제27. emp20 테이블에서 나이가 20대인 학생들의 이름과 나이를 출력하는데\n",
        "        나이가 높은 학생부터 출력하시오 !"
      ],
      "metadata": {
        "id": "v3-ApbGdH4Lv"
      },
      "execution_count": null,
      "outputs": []
    },
    {
      "cell_type": "code",
      "source": [
        "#답:\n",
        "\n"
      ],
      "metadata": {
        "id": "y2TI_G7zH4O2"
      },
      "execution_count": null,
      "outputs": []
    },
    {
      "cell_type": "code",
      "source": [
        "▣ 예제14. 대소문자 변환 함수를 사용할 수 있어야해요 !\n",
        "\n",
        " 문자함수 비교\n",
        "\n",
        "           SQL                      vs                 R\n",
        "\n",
        "          upper                                     toupper\n",
        "          lower                                     tolower\n",
        "          substr                                     substr\n",
        "         replace                                     gsub\n"
      ],
      "metadata": {
        "id": "0Pz-6PXQJ7uX"
      },
      "execution_count": null,
      "outputs": []
    },
    {
      "cell_type": "code",
      "source": [
        "\n",
        "# 이름 직업을 출력하는데 전부 소문자로 출력하시오 !\n",
        "\n",
        "library(data.table)\n",
        "data.table( 이름=tolower(emp$ename), 직업=tolower(emp$job) )\n"
      ],
      "metadata": {
        "id": "K_5HKEHSJ7xT"
      },
      "execution_count": null,
      "outputs": []
    },
    {
      "cell_type": "code",
      "source": [
        "# emp 데이터 프레임의 ename 컬럼을 소문자로 변환합니다.\n",
        "\n",
        "emp$ename <- tolower(emp$ename)\n",
        "emp\n"
      ],
      "metadata": {
        "id": "SZUywY9lJ70C"
      },
      "execution_count": null,
      "outputs": []
    },
    {
      "cell_type": "code",
      "source": [
        "문제28.  emp 데이터프레임의 직업도 소문자로 변환한후에 이름과 직업을\n",
        "         emp 데이터 프레임에서 출력하시오 !"
      ],
      "metadata": {
        "id": "pM8h07RjJ72l"
      },
      "execution_count": null,
      "outputs": []
    },
    {
      "cell_type": "code",
      "source": [
        "#답:\n",
        "\n"
      ],
      "metadata": {
        "id": "Pm5xrqtjJ75q"
      },
      "execution_count": null,
      "outputs": []
    },
    {
      "cell_type": "code",
      "source": [
        "문제29.  이름이 scott 인 사원의 이름과  월급을 출력하시오 !\n",
        "         이름을 소문자로 검색해도 출력될 수 있게 하시오 !"
      ],
      "metadata": {
        "id": "LeKvfFxkJ78i"
      },
      "execution_count": null,
      "outputs": []
    },
    {
      "cell_type": "code",
      "source": [
        "#답:\n",
        "\n"
      ],
      "metadata": {
        "id": "Ge2SbKk0J7_H"
      },
      "execution_count": null,
      "outputs": []
    },
    {
      "cell_type": "code",
      "source": [
        "▣ 예제15. SQL의 substr 함수를 R 로 구현하는 방법을 알아해요 !\n",
        "\n",
        "#문법:  이름의 첫번째 철자가 S 로 시작하는 사원의 이름과 월급을 출력하시오 !\n",
        "\n",
        "SQL> select  ename, sal\n",
        "          from emp\n",
        "          where  substr(ename, 1, 1 ) ='S';\n",
        "\n",
        "R> emp[ substr( emp$ename, 1, 1 )=='S' , c(\"ename\", \"sal\") ]\n",
        "\n",
        "※        SQL                          vs                    R\n",
        "\n",
        "SQL의 substr(컬럼, 시작인덱스, 시작 인덱스로 부터 몇개 를 가져올지 건수)\n",
        "R 의 substr( 컬럼, 시작 인덱스 번호, 끝 인덱스 번호 )\n",
        "\n",
        "substr( emp$ename, 1, 1 )\n",
        "\n"
      ],
      "metadata": {
        "id": "j_EGgw0JJ8B6"
      },
      "execution_count": null,
      "outputs": []
    },
    {
      "cell_type": "code",
      "source": [
        "문제30.  emp20 테이블에서 성씨가 김씨인 학생들의 이름과 나이를 출력하시오!"
      ],
      "metadata": {
        "id": "4nhFZNOxJ8E9"
      },
      "execution_count": null,
      "outputs": []
    },
    {
      "cell_type": "code",
      "source": [
        "#답:\n",
        "\n"
      ],
      "metadata": {
        "id": "BIWJxlodJ8Hq"
      },
      "execution_count": null,
      "outputs": []
    },
    {
      "cell_type": "code",
      "source": [
        "▣ 예제16. SQL의 replace 함수를 R로 구현하는 방법을 알아야해요!\n",
        "\n",
        "# 문법:   오라클 SQL의 replace 함수와 같은 함수 입니다.\n",
        "\n",
        "SQL>  select ename, replace( sal, 0, '*')\n",
        "             from   emp;\n",
        "\n",
        "R>  library(data.table)\n",
        "R>  data.table( 이름=emp$ename, 월급=gsub(0, '*', emp$sal) )\n",
        "\n",
        "설명: gsub( 변경전 데이터, 변경후 데이터, 컬럼)\n"
      ],
      "metadata": {
        "id": "jP807HZPJ8Kc"
      },
      "execution_count": null,
      "outputs": []
    },
    {
      "cell_type": "code",
      "source": [
        "문제31. 이름과 월급을 출력하는데 월급을 출력할 때 숫자 0~2는 * 로 출력되게하시\n",
        "\n",
        "KING\t5***\n",
        "BLAKE\t*85*\n",
        "CLARK\t*45*\n",
        "JONES\t*975\n",
        "MARTIN\t**5*\n",
        "ALLEN\t*6**\n",
        "TURNER\t*5**\n",
        "JAMES\t95*\n",
        "WARD\t**5*\n",
        "FORD\t3***\n",
        "SMITH\t8**\n",
        "SCOTT\t3***\n",
        "ADAMS\t****\n",
        "MILLER\t*3**\n"
      ],
      "metadata": {
        "id": "XhKJOEGQJ8Nb"
      },
      "execution_count": null,
      "outputs": []
    },
    {
      "cell_type": "code",
      "source": [
        "#답:\n",
        "\n"
      ],
      "metadata": {
        "id": "om7t9XqwJ8P-"
      },
      "execution_count": null,
      "outputs": []
    },
    {
      "cell_type": "code",
      "source": [
        "▣ 예제17. R 에서 숫자 반올림을 할 때 주의할 사항을 알아야해요 !\n",
        "\n",
        "숫자함수\n",
        "\n",
        "            SQL                 vs                R\n",
        "1.         round                               round\n",
        "2.         trunc                                trunc\n",
        "3.         mod                                  %%\n",
        "4.         power                               2^3 (2의 3승)\n",
        "\n",
        "# 문법:   ※ R 과 파이썬은 짝수를 좋아합니다.\n",
        "\n",
        "  round(122.5)  --->  122\n",
        "\n",
        "         122          122.5          123\n",
        "\n",
        "  round(123.5)  --->  124\n",
        "\n",
        "         123         123.5          124\n",
        "\n",
        " 문법:  round( 컬럼, 자릿수)   ---->    2450\n",
        "\n",
        " round(emp$sal, -2)   # 십의 자리에서 반올림하는 코드 입니다.\n"
      ],
      "metadata": {
        "id": "xgFumwO0J8Sl"
      },
      "execution_count": null,
      "outputs": []
    },
    {
      "cell_type": "code",
      "source": [
        "문제32. 이름과 월급을 출력하는데 월급을 출력할 때 십의 자리에서 반올림되게하시오\n"
      ],
      "metadata": {
        "id": "5zUvjWWoJ8Vb"
      },
      "execution_count": null,
      "outputs": []
    },
    {
      "cell_type": "code",
      "source": [
        "#답:\n",
        "\n"
      ],
      "metadata": {
        "id": "qeNQurptJ8Yb"
      },
      "execution_count": null,
      "outputs": []
    },
    {
      "cell_type": "code",
      "source": [
        "▣ 예제18. R의 trunc 함수는 소숫점 이전은 처리하지 않아요 !\n",
        "\n",
        "#문법: 이름과 월급을 출력하는데  월급을 출력할때 십의 자리에서 끝까지는 다 버리고 출력되게하시오 !\n",
        "\n",
        "trunc(1223.57, -2 )  ---> 오라클은 1200 이 출력되는데 R 은 1233 이 출력됩니다\n",
        "\n",
        "설명:  R 의 trunc 함수는 소숫점 이하면 버릴 수 있는데 소숫점 이전은 버릴수 없어서 수행되지 않습니다.\n"
      ],
      "metadata": {
        "id": "V2-ZRQUWJ8bD"
      },
      "execution_count": null,
      "outputs": []
    },
    {
      "cell_type": "code",
      "source": [
        "문제33.  아래의 SQL을 R 로 구현하시오 !\n"
      ],
      "metadata": {
        "id": "NM1INcuQJ8d0"
      },
      "execution_count": null,
      "outputs": []
    },
    {
      "cell_type": "code",
      "source": [
        "#답:\n",
        "\n"
      ],
      "metadata": {
        "id": "O15FZuzwJ8gq"
      },
      "execution_count": null,
      "outputs": []
    },
    {
      "cell_type": "code",
      "source": [
        "문제34.  emp20 데이터 프레임에서 이름과 나이를 출력하는데 나이가 짝수인 학생들만 출력하시오 !"
      ],
      "metadata": {
        "id": "LMrKoDqPJ8jg"
      },
      "execution_count": null,
      "outputs": []
    },
    {
      "cell_type": "code",
      "source": [
        "#답:\n",
        "\n"
      ],
      "metadata": {
        "id": "DF1lHGPgJ8mK"
      },
      "execution_count": null,
      "outputs": []
    },
    {
      "cell_type": "code",
      "source": [
        "▣ 예제19. R에서 날짜 연산을 하려면 반드시 날짜형으로 변환을 해야해요 !\n",
        "\n",
        "# emp 데이터 프레임의 hiredate 가 어떤 데이터 유형인지 확인을 해보세요 !\n",
        "\n",
        "str(emp)\n",
        "\n",
        "hiredate: chr  <---- 문자형으로 되어있습니다.\n",
        "\n",
        "설명:  csv 파일의 데이터를 불러와서 데이터 프레임을 구성하게 되면\n",
        "       R 이던 파이썬던 둘다 날짜형이 아니라 문자형으로 만들어집니다.\n"
      ],
      "metadata": {
        "id": "AckxyqcGJ8o7"
      },
      "execution_count": null,
      "outputs": []
    },
    {
      "cell_type": "code",
      "source": [
        "문제35. R 로 오늘 날짜를 출력하세요"
      ],
      "metadata": {
        "id": "9HnFa_s0J8rq"
      },
      "execution_count": null,
      "outputs": []
    },
    {
      "cell_type": "code",
      "source": [
        "#답:\n",
        "\n"
      ],
      "metadata": {
        "id": "hBDZmOfzJ8uz"
      },
      "execution_count": null,
      "outputs": []
    },
    {
      "cell_type": "code",
      "source": [
        "문제36.  이름, 입사한 날짜부터 오늘까지 총 몇일 근무했는지 출력하시오 !"
      ],
      "metadata": {
        "id": "W0neIbXyJ8xr"
      },
      "execution_count": null,
      "outputs": []
    },
    {
      "cell_type": "code",
      "source": [
        "#답:\n",
        "\n"
      ],
      "metadata": {
        "id": "jNPpd8JyJ80N"
      },
      "execution_count": null,
      "outputs": []
    },
    {
      "cell_type": "code",
      "source": [
        "문제37. difftime 함수를 이용해서 입사한 날짜부터 오늘까지 총 근무 일수를 출력하시오!\n",
        "        이름과 근무일수를 출력하시오 !"
      ],
      "metadata": {
        "id": "9DRIgYhkPoci"
      },
      "execution_count": null,
      "outputs": []
    },
    {
      "cell_type": "code",
      "source": [
        "#답:\n",
        "\n"
      ],
      "metadata": {
        "id": "xexG8lKRPofb"
      },
      "execution_count": null,
      "outputs": []
    },
    {
      "cell_type": "code",
      "source": [
        "▣ 예제20. R에서의 데이터 변환함수를 알아야 해요\n",
        "\n",
        "        SQL          vs              R\n",
        "\n",
        "  1.   to_char                  as.character 또는 format\n",
        "  2.   to_number                as.numeric\n",
        "  3.   to_date                  as.Date\n",
        "\n",
        "문법: 이름과 입사한 요일을 출력하시오 !\n",
        "\n",
        "SQL> select  ename, to_char( hiredate, 'day')\n",
        "          from  emp;\n",
        "\n",
        "R>\n",
        "emp$hire_yoil <-  format( as.Date(emp$hiredate), '%A')\n",
        "emp[     , c(\"ename\", \"hire_yoil\") ]\n",
        "\n",
        "설명: format( 특정날짜, 옵션)\n",
        "\n",
        "옵션의 종류 : %A : 요일\n",
        "              %Y : 년도 4자리\n",
        "              %y : 년도 2자리\n",
        "              %m : 달\n",
        "              %d  : 일\n"
      ],
      "metadata": {
        "id": "RQ__bjJ8PoiI"
      },
      "execution_count": null,
      "outputs": []
    },
    {
      "cell_type": "code",
      "source": [
        "문제38. 내가 무슨요일에 태어났는지 출력하시오 !"
      ],
      "metadata": {
        "id": "fTduUUOePok5"
      },
      "execution_count": null,
      "outputs": []
    },
    {
      "cell_type": "code",
      "source": [
        "#답:\n",
        "\n"
      ],
      "metadata": {
        "id": "Ys23pD2iPonp"
      },
      "execution_count": null,
      "outputs": []
    },
    {
      "cell_type": "code",
      "source": [
        "문제39. 1981년도에 입사한 사원들의 이름과 입사일을 출력하시오 !"
      ],
      "metadata": {
        "id": "G75MjgHRPoqj"
      },
      "execution_count": null,
      "outputs": []
    },
    {
      "cell_type": "code",
      "source": [
        "#답:\n",
        "\n"
      ],
      "metadata": {
        "id": "nap_M1V9Pota"
      },
      "execution_count": null,
      "outputs": []
    },
    {
      "cell_type": "code",
      "source": [
        "▣ 예제21. R에서의 일반함수를 알아야 해요\n",
        "\n",
        "        SQL            vs        R\n",
        " 1.      nvl                   ifelse\n",
        " 2.     decode                 ifelse\n",
        " 3.     case                   ifelse\n",
        "\n",
        "#문법:  이름과 커미션을 출력하는데 커미션이 null 인 사원들은 0 으로 출력하시오\n",
        "\n",
        "SQL>  select  ename, nvl( comm, 0 )\n",
        "            from   emp;\n",
        "\n",
        "R>\n",
        "emp <- read.csv(\"emp.csv\", header=T)\n",
        "emp$comm_zero <-  ifelse( is.na(emp$comm), 0, emp$comm )\n",
        "emp\n",
        "\n",
        "설명: ifelse( 조건,  바꿀값, 기본값 )\n",
        "       is.na(emp$comm)은 커미션이 null 이면 True 이고 아니면 false 입니다.\n",
        "       조건이 True 면 바꿀값을 출력하고 False 면 기본값을 출력해라 !\n"
      ],
      "metadata": {
        "id": "wC0agafCPowa"
      },
      "execution_count": null,
      "outputs": []
    },
    {
      "cell_type": "code",
      "source": [
        "문제40.  tatanic2.csv 를 가지고 tat 라는 데이터 프레임을 만드시오 !"
      ],
      "metadata": {
        "id": "VUFwX4Q7PozC"
      },
      "execution_count": null,
      "outputs": []
    },
    {
      "cell_type": "code",
      "source": [
        "#답:\n",
        "\n"
      ],
      "metadata": {
        "id": "qWk4bwhvPo1-"
      },
      "execution_count": null,
      "outputs": []
    },
    {
      "cell_type": "code",
      "source": [
        "문제41.  age2 라는 컬럼(변수)을 생성하는데 tat 의 age 컬럼으로 데이터를\n",
        "         만들고 결측치는 31 로 채워넣어서 만드시오 !"
      ],
      "metadata": {
        "id": "3oASzSPlPo4s"
      },
      "execution_count": null,
      "outputs": []
    },
    {
      "cell_type": "code",
      "source": [
        "#답:\n",
        "\n"
      ],
      "metadata": {
        "id": "7L5v1_BWPo7j"
      },
      "execution_count": null,
      "outputs": []
    },
    {
      "cell_type": "code",
      "source": [
        "#문법. 이름, 부서번호, 보너스를 출력하는데 부서번호가 10번이면 5000 을 출력하고\n",
        "#      그렇지 않고 20번이면 4000 을 출력하고 나머지 부서번호는 0 을 출력하시오!\n"
      ],
      "metadata": {
        "id": "odJ1Gfu9Po-S"
      },
      "execution_count": null,
      "outputs": []
    },
    {
      "cell_type": "code",
      "source": [
        "emp$bonus <- ifelse( emp$deptno==10, 5000, ifelse( emp$deptno==20, 4000,0) )\n",
        "emp[            , c(\"ename\", \"deptno\", \"bonus\") ]\n"
      ],
      "metadata": {
        "id": "g67LVfIpVG7h"
      },
      "execution_count": null,
      "outputs": []
    },
    {
      "cell_type": "code",
      "source": [
        "#문법. 이름, 월급, 등급을 출력하는데 월급이 3000 이상이면 A 등급을 출력하고\n",
        "#      2000 이상이고 300 보다 작으면 B 를 출력하고 나머지는 C를 출력하시오!\n"
      ],
      "metadata": {
        "id": "dvoBHEMwPpBT"
      },
      "execution_count": null,
      "outputs": []
    },
    {
      "cell_type": "code",
      "source": [
        "emp$grade <- ifelse( emp$sal >= 3000, 'A', ifelse( emp$sal >= 2000, 'B','C') )\n",
        "emp[      , c(\"ename\",\"grade\") ]"
      ],
      "metadata": {
        "id": "fCkvyNlxVoR7"
      },
      "execution_count": null,
      "outputs": []
    },
    {
      "cell_type": "code",
      "source": [
        "문제42.  tat 데이터 프레임에 women_child 파생변수를 추가하는데\n",
        "         성별이 여자이거나 나이가 12이하면 1로 값을 만들고 아니면 0으로 값을\n",
        "         만드시오"
      ],
      "metadata": {
        "id": "QGBlZZCYPpD7"
      },
      "execution_count": null,
      "outputs": []
    },
    {
      "cell_type": "code",
      "source": [
        "#답:\n",
        "\n"
      ],
      "metadata": {
        "id": "zTPfASbyPpGx"
      },
      "execution_count": null,
      "outputs": []
    },
    {
      "cell_type": "code",
      "source": [
        "▣ 예제22. R에서의 그룹함수 max 를 알아야해요\n",
        "\n",
        "     SQL               vs                R\n",
        "\n",
        "     max                                 max\n",
        "     min                                 min\n",
        "     sum                                 sum\n",
        "     avg                                 mean\n",
        "     count                              length (세로)\n",
        "                                        table (가로)"
      ],
      "metadata": {
        "id": "QHOWYRVNPpJq"
      },
      "execution_count": null,
      "outputs": []
    },
    {
      "cell_type": "code",
      "source": [
        "# 문법1:  사원 테이블에서 최대월급을 출력하시오 !\n",
        "\n",
        "max(emp$sal)"
      ],
      "metadata": {
        "id": "uXUYO_ltPpMh"
      },
      "execution_count": null,
      "outputs": []
    },
    {
      "cell_type": "code",
      "source": [
        "#문법2: 직업이 SALESMAN 인 사원들의 최대월급을 출력하시오 !\n",
        "\n",
        "a <-  emp[ emp$job=='SALESMAN', c(\"sal\") ]\n",
        "max(a)"
      ],
      "metadata": {
        "id": "37UR6s_QPpPe"
      },
      "execution_count": null,
      "outputs": []
    },
    {
      "cell_type": "code",
      "source": [
        "#문법3. 부서번호, 부서번호별 최대월급을 출력하시오 !\n",
        "\n",
        "aggregate( sal ~ deptno, emp, max )\n"
      ],
      "metadata": {
        "id": "fxBp9KTqPpSN"
      },
      "execution_count": null,
      "outputs": []
    },
    {
      "cell_type": "code",
      "source": [
        "※ 설명:  aggregate( 값 컬럼명 ~ 그룹핑할 컬럼명, 테이블명, 그룹함수 )\n",
        "\n",
        " x <- aggregate( sal ~ deptno, emp, max )\n",
        " names(x) <- c(\"job\", \"maxsal\")   # 컬럼의 이름을 변경하기\n",
        " x"
      ],
      "metadata": {
        "id": "o9Pq9g-YVA6I"
      },
      "execution_count": null,
      "outputs": []
    },
    {
      "cell_type": "code",
      "source": [
        "문제43. 직업, 직업별 토탈월급을 출력하시오 !\n"
      ],
      "metadata": {
        "id": "ZxcFTUXGPpVF"
      },
      "execution_count": null,
      "outputs": []
    },
    {
      "cell_type": "code",
      "source": [
        "#답:\n",
        "\n"
      ],
      "metadata": {
        "id": "yT9OcHnEPpX9"
      },
      "execution_count": null,
      "outputs": []
    },
    {
      "cell_type": "code",
      "source": [
        "▣ 예제23. R에서의 그룹함수 min 을 알아야해요\n",
        "\n",
        "# 문법1:  직업과 직업별 최소월급을 출력하시오 !"
      ],
      "metadata": {
        "id": "hAzwXtc3Ppak"
      },
      "execution_count": null,
      "outputs": []
    },
    {
      "cell_type": "code",
      "source": [
        "x <- aggregate( sal ~ job,  emp,  min )\n",
        "names(x) <- c('직업', '최소월급')\n",
        "x"
      ],
      "metadata": {
        "id": "GNWhEaEGVxy-"
      },
      "execution_count": null,
      "outputs": []
    },
    {
      "cell_type": "code",
      "source": [
        "문제44. 부서번호, 부서번호별 최소월급을 출력하는데 부서번호별 최소월급이\n",
        "        높은것 부터 출력하시오 !"
      ],
      "metadata": {
        "id": "txDBYu9QPpeC"
      },
      "execution_count": null,
      "outputs": []
    },
    {
      "cell_type": "code",
      "source": [
        "#답:\n",
        "\n"
      ],
      "metadata": {
        "id": "04Nfei5aS0kT"
      },
      "execution_count": null,
      "outputs": []
    },
    {
      "cell_type": "code",
      "source": [
        "※ 현업에서의 팁!\n",
        "\n",
        "   위의 결과를 금융권에서 데이터 분석할 때는 반드시 금액 단위를 써줘야합니다.\n",
        "\n",
        " x <- aggregate( sal ~ deptno, emp, min )\n",
        " names(x) <- c(\"부서번호\", \"최소월급\")\n",
        "\n",
        " x$최소월급 <- format( x$최소월급, big.mark=\",\", scientific= FALSE )\n",
        " print(x)\n",
        "\n",
        "설명: scientific= FALSE 는 1e+03 으로 출력되는것을 방지하기 위해서\n",
        "      사용한 옵션입니다.  이것을 \"지수 표기법\" 이라고하는데 R 과 파이썬에서\n",
        "      이렇게 결과가 나오는 경우가 종종 있습니다.\n",
        "      1e+03 은 1000 을 의미 합니다.\n",
        "\n",
        " 0.0000000000000000000001  <-- 아주 작은 숫자나\n",
        " 10000000000000000000000   <-- 아주 큰 숫자를 표현할 때 \"지수 표기법\" 이 유용\n"
      ],
      "metadata": {
        "id": "BtisVV4HS0na"
      },
      "execution_count": null,
      "outputs": []
    },
    {
      "cell_type": "code",
      "source": [
        "▣ 예제24. R에서의 그룹함수 length 를 알야해요\n",
        "\n",
        "#문법1. 직업, 직업별 인원수를 출력하시오 !\n"
      ],
      "metadata": {
        "id": "auPQXdMnS0qj"
      },
      "execution_count": null,
      "outputs": []
    },
    {
      "cell_type": "code",
      "source": [
        "x <- aggregate( empno ~ job, emp, length )\n",
        "names(x) <- c(\"직업\", \"인원수\")\n",
        "x\n"
      ],
      "metadata": {
        "id": "dFmrKS9gV5q4"
      },
      "execution_count": null,
      "outputs": []
    },
    {
      "cell_type": "code",
      "source": [
        "#문법2. 직업과 직업별 인원수를 가로로 출력하시오 !\n",
        "\n",
        "SQL> select  count( decode( job, 'ANALYST', empno, 1, null)  ) as \"ANALYST\",\n",
        "             count( decode( job, 'CLERK', empno, 1, null)  ) as \"CLERK\",\n",
        "             count( decode( job, 'MANAGER', empno, 1, null)  ) as \"MANAGER\",\n",
        "             count( decode( job, 'SALESMAN', empno, 1, null)  ) as \"SALESMAN\"\n",
        "          from  emp;\n",
        "\n",
        "R>  table(emp$job)  # R 은 코드가 심플합니다.\n",
        "\n",
        " ANALYST     CLERK   MANAGER PRESIDENT  SALESMAN\n",
        "  2          4           3        1         4\n"
      ],
      "metadata": {
        "id": "WARiFPAdTrsC"
      },
      "execution_count": null,
      "outputs": []
    },
    {
      "cell_type": "code",
      "source": [
        "table(emp$job)"
      ],
      "metadata": {
        "colab": {
          "base_uri": "https://localhost:8080/",
          "height": 71
        },
        "id": "PJPGibU8WBDZ",
        "outputId": "964d2e5c-63e5-4c20-8726-eef268799371"
      },
      "execution_count": 37,
      "outputs": [
        {
          "output_type": "display_data",
          "data": {
            "text/plain": [
              "\n",
              "  ANALYST     CLERK   MANAGER PRESIDENT  SALESMAN \n",
              "        2         4         3         1         4 "
            ]
          },
          "metadata": {}
        }
      ]
    },
    {
      "cell_type": "code",
      "source": [
        "#문법3. SQL과는 다르게 R은 데이터 시각화로 데이터를 한번에 쉽게 파악이 가능합니다.\n",
        "#       직업과 직업별 인원수를 원형 그래프로 시각화 하시오 !\n"
      ],
      "metadata": {
        "id": "o4Hikzp_S0tW"
      },
      "execution_count": null,
      "outputs": []
    },
    {
      "cell_type": "code",
      "source": [
        "job_cnt <- table(emp$job)\n",
        "\n",
        "pie( job_cnt,\n",
        "     main=\"Pie Chart of Occupation Frequencies\" ,\n",
        "     col=rainbow( length(job_cnt) ),\n",
        "     labels= paste(names(job_cnt), \"\\n\", job_cnt ) )"
      ],
      "metadata": {
        "colab": {
          "base_uri": "https://localhost:8080/",
          "height": 437
        },
        "id": "HDGStJxNS0wa",
        "outputId": "d8ca717f-c59f-47c4-e1e3-e6798c2054ac"
      },
      "execution_count": 35,
      "outputs": [
        {
          "output_type": "display_data",
          "data": {
            "text/plain": [
              "Plot with title “Pie Chart of Occupation Frequencies”"
            ],
            "image/png": "[encoded data removed]"
          },
          "metadata": {
            "image/png": {
              "width": 420,
              "height": 420
            }
          }
        }
      ]
    },
    {
      "cell_type": "code",
      "source": [
        "#문법4. 위의 색깔이 촌스러우므로 다른 색깔로 변경하시오 !"
      ],
      "metadata": {
        "id": "3ubLwO6JS0zR"
      },
      "execution_count": null,
      "outputs": []
    },
    {
      "cell_type": "code",
      "source": [
        "job_cnt <- table(emp$job)\n",
        "\n",
        "colors <- c(\"skyblue\", \"coral\", \"seagreen\", \"gold\", \"orchid\")\n",
        "\n",
        "pie( job_cnt,\n",
        "     main=\"Pie Chart of Occupation Frequencies\" ,\n",
        "     col= colors,\n",
        "     labels= paste(names(job_cnt), \"\\n\", job_cnt ) )"
      ],
      "metadata": {
        "colab": {
          "base_uri": "https://localhost:8080/",
          "height": 437
        },
        "id": "8tZwSdPES02U",
        "outputId": "37330b64-2fae-42f7-99bb-6b51926380dc"
      },
      "execution_count": 36,
      "outputs": [
        {
          "output_type": "display_data",
          "data": {
            "text/plain": [
              "Plot with title “Pie Chart of Occupation Frequencies”"
            ],
            "image/png": "[encoded data removed]"
          },
          "metadata": {
            "image/png": {
              "width": 420,
              "height": 420
            }
          }
        }
      ]
    },
    {
      "cell_type": "code",
      "source": [
        "문제45. 부서번호, 부서번호별 인원수를 원형 그래프로 시각화 하시오 !"
      ],
      "metadata": {
        "id": "ehUdK9TgS04z"
      },
      "execution_count": null,
      "outputs": []
    },
    {
      "cell_type": "code",
      "source": [
        "#답:\n",
        "\n"
      ],
      "metadata": {
        "id": "8hQWt1s8S08F"
      },
      "execution_count": null,
      "outputs": []
    },
    {
      "cell_type": "code",
      "source": [
        "▣ 예제25. R에서의 그룹함수 sum 을 알아야해요\n",
        "\n",
        "#문법1. 직업, 직업별 토탈월급을 출력하시오 !\n",
        "\n",
        "SQL> select  job, sum(sal)\n",
        "         from  emp\n",
        "         group  by   job;\n"
      ],
      "metadata": {
        "id": "97KKce50S0-0"
      },
      "execution_count": null,
      "outputs": []
    },
    {
      "cell_type": "code",
      "source": [
        "x <- aggregate( sal ~ job, emp, sum )\n",
        "names(x) <- c(\"직업\", \"토탈월급\")\n",
        "x\n"
      ],
      "metadata": {
        "id": "EVFKC41QWFx7"
      },
      "execution_count": null,
      "outputs": []
    },
    {
      "cell_type": "code",
      "source": [
        "#문법2. 직업, 직업별 토탈월급을 가로로 출력하시오 !\n",
        "\n",
        "SQL> select sum( decode(job, 'ANALYST', sal, null )  ) as  \"ANALYST\",\n",
        "            sum( decode(job, 'CLERK', sal, null )  ) as  \"CLERK\",\n",
        "            sum( decode(job, 'MANAGER', sal, null )  ) as  \"MANAGER\",\n",
        "            sum( decode(job, 'SALESMAN', sal, null )  ) as  \"SALESMAN\",\n",
        "            sum( decode(job, 'PRESIDENT', sal, null )  ) as  \"PRESIDENT\",\n",
        " from  emp;\n",
        "\n",
        "R>  tapply( emp$sal, emp$job, sum )\n"
      ],
      "metadata": {
        "id": "-mIcNyk_S1CP"
      },
      "execution_count": null,
      "outputs": []
    },
    {
      "cell_type": "code",
      "source": [
        "tapply( emp$sal, emp$job, sum )"
      ],
      "metadata": {
        "id": "B45FtJcUWMdR"
      },
      "execution_count": null,
      "outputs": []
    },
    {
      "cell_type": "code",
      "source": [
        "#문법3.  위의 결과를 원형 그래프로 시각화 하시오 !"
      ],
      "metadata": {
        "id": "LRDjBCtyWThm"
      },
      "execution_count": null,
      "outputs": []
    },
    {
      "cell_type": "code",
      "source": [
        "total_sal <- tapply( emp$sal, emp$job, sum )\n",
        "\n",
        "pie( total_sal,\n",
        "      main=\"Pie Chart of Total Salaries by Occupation\",\n",
        "      col= c(\"skyblue\", \"coral\", \"seagreen\", \"gold\", \"orchid\"),\n",
        "      labels=paste(names(total_sal), \"\\n\", total_sal) )\n"
      ],
      "metadata": {
        "colab": {
          "base_uri": "https://localhost:8080/",
          "height": 437
        },
        "id": "6Q4XeNEwWU1W",
        "outputId": "f7d3b94c-eb49-4b00-826b-e8a4ce03becf"
      },
      "execution_count": 39,
      "outputs": [
        {
          "output_type": "display_data",
          "data": {
            "text/plain": [
              "Plot with title “Pie Chart of Total Salaries by Occupation”"
            ],
            "image/png": "[encoded data removed]"
          },
          "metadata": {
            "image/png": {
              "width": 420,
              "height": 420
            }
          }
        }
      ]
    },
    {
      "cell_type": "code",
      "source": [
        "문제46. 부서번호, 부서번호별 토탈월급을 가로로 출력하시오 !"
      ],
      "metadata": {
        "id": "A5-9OgywWU4P"
      },
      "execution_count": null,
      "outputs": []
    },
    {
      "cell_type": "code",
      "source": [
        "#답:\n",
        "\n"
      ],
      "metadata": {
        "id": "4hlspk0YWU69"
      },
      "execution_count": null,
      "outputs": []
    },
    {
      "cell_type": "code",
      "source": [
        "문제47. 위의 결과를 원형 그래프로 시각화 하시오 !"
      ],
      "metadata": {
        "id": "J1lTLfoqWU9l"
      },
      "execution_count": null,
      "outputs": []
    },
    {
      "cell_type": "code",
      "source": [
        "#답:\n",
        "\n"
      ],
      "metadata": {
        "id": "_Gn6k4XAWVAd"
      },
      "execution_count": null,
      "outputs": []
    },
    {
      "cell_type": "code",
      "source": [
        "▣ 예제36. R에서의 그룹함수 mean 을 알아야해요\n",
        "\n",
        "#문법1. 직업, 직업별 평균월급을 출력하시오 ! (세로출력)"
      ],
      "metadata": {
        "id": "fh17RllxWVDF"
      },
      "execution_count": null,
      "outputs": []
    },
    {
      "cell_type": "code",
      "source": [
        "aggregate( sal ~ job,  emp,  mean )"
      ],
      "metadata": {
        "id": "-_yWPkLLWVFw"
      },
      "execution_count": null,
      "outputs": []
    },
    {
      "cell_type": "code",
      "source": [
        "#문법2. 위의 결과에서 소수점이하는 안나오게 반올림하시오 !"
      ],
      "metadata": {
        "id": "bzjPT_bVWVIe"
      },
      "execution_count": null,
      "outputs": []
    },
    {
      "cell_type": "code",
      "source": [
        "x <- aggregate( sal ~ job,  emp,  mean )\n",
        "x$sal <-  round(x$sal)\n",
        "names(x) <- c(\"직업\", \"평균월급\")\n",
        "x"
      ],
      "metadata": {
        "id": "JEQ_0tORWVS-"
      },
      "execution_count": null,
      "outputs": []
    },
    {
      "cell_type": "code",
      "source": [
        "#문법3. 직업, 직업별 평균월급을 출력하는데 가로로 출력하시오 !"
      ],
      "metadata": {
        "id": "aSxsPi8nWyt9"
      },
      "execution_count": null,
      "outputs": []
    },
    {
      "cell_type": "code",
      "source": [
        "x <- round(tapply( emp$sal, emp$job , mean ))\n",
        "x"
      ],
      "metadata": {
        "id": "_LsyhFACWyxD"
      },
      "execution_count": null,
      "outputs": []
    },
    {
      "cell_type": "code",
      "source": [
        "문제48. 아래의 결과를 R 로 구현하시오\n",
        "\n",
        "입사년도  평균월급\n",
        "  1980      800\n",
        "  1981     2282\n",
        "  1982     2150\n",
        "  1983     1100"
      ],
      "metadata": {
        "id": "geJ-G3-hWyzt"
      },
      "execution_count": null,
      "outputs": []
    },
    {
      "cell_type": "code",
      "source": [
        "#답:\n",
        "\n"
      ],
      "metadata": {
        "id": "EYRFqDzOWy2l"
      },
      "execution_count": null,
      "outputs": []
    },
    {
      "cell_type": "code",
      "source": [
        "문제49. (시계열 데이터 분석1) 위의 코드를 좀 수정해서 아래의 결과를 출력하시오\n",
        "\n",
        "  입사년도 인원수\n",
        "    1980      1\n",
        "    1981     10\n",
        "    1982      2\n",
        "    1983      1"
      ],
      "metadata": {
        "id": "GxEnHnLgWy5L"
      },
      "execution_count": null,
      "outputs": []
    },
    {
      "cell_type": "code",
      "source": [
        "#답:\n",
        "\n"
      ],
      "metadata": {
        "id": "y444l0UCWy8Z"
      },
      "execution_count": null,
      "outputs": []
    },
    {
      "cell_type": "code",
      "source": [
        "문제50.(시계열 데이터 분석2)  위의 결과를 라인 그래프로 시각화 하시오 !"
      ],
      "metadata": {
        "id": "1ADt9UfKWy-x"
      },
      "execution_count": null,
      "outputs": []
    },
    {
      "cell_type": "code",
      "source": [],
      "metadata": {
        "id": "UCEw2BrEWzEE"
      },
      "execution_count": null,
      "outputs": []
    },
    {
      "cell_type": "code",
      "source": [
        "문제51. 위의 라인 그래프를 빠르게 그릴 수 있도록 위의 코드를 하나로 통합 하시오!"
      ],
      "metadata": {
        "id": "g7nAit_TWzGs"
      },
      "execution_count": null,
      "outputs": []
    },
    {
      "cell_type": "code",
      "source": [
        "▣ 예제27. R에서의 group by 절에 두개의 컬럼을 사용할 수 있는 방법을 알아야 해요\n",
        "\n",
        "# 문법1. 부서번호, 직업, 부서번호별 직업별 토탈월급을 출력하시오 !\n",
        "x <- aggregate( sal ~ deptno + job, emp,  sum )\n",
        "library(doBy)\n",
        "orderBy( ~ deptno + job , x )"
      ],
      "metadata": {
        "id": "1mhg4GXNWzJu"
      },
      "execution_count": null,
      "outputs": []
    },
    {
      "cell_type": "code",
      "source": [
        "# 문법2. 부서번호, 직업, 부서번호별 직업별 토탈월급을 가로로 출력하시오 !\n",
        "tapply( emp$sal, list(emp$deptno,emp$job) , sum )"
      ],
      "metadata": {
        "id": "R-zl5zCxWzPI"
      },
      "execution_count": null,
      "outputs": []
    },
    {
      "cell_type": "code",
      "source": [],
      "metadata": {
        "id": "DnAJjq4NWzRy"
      },
      "execution_count": null,
      "outputs": []
    },
    {
      "cell_type": "code",
      "source": [
        "#문법3. 위에서 출력되고 있는 결과에서 NA 를 0 으로 출력하시오 !\n",
        "#       데이터를 시각화를 하려면 반드시 NA 가 0 이어야 합니다.\n",
        "\n",
        "설명: R 자료구조 5가지 ?   1. vector\n",
        "                           2. matrix\n",
        "                           3. array\n",
        "                           4. data frame\n",
        "                           5. list  : 서로 다른 데이터 유형을 갖는 자료구조\n",
        "\n",
        "list함수로 숫자와 문제를 묶어줬습니다."
      ],
      "metadata": {
        "id": "9hGwkIUdWzUm"
      },
      "execution_count": null,
      "outputs": []
    },
    {
      "cell_type": "code",
      "source": [
        "#문법3. 위에서 출력되고 있는 결과에서 NA 를 0 으로 출력하시오 !\n",
        "#       데이터를 시각화를 하려면 반드시 NA 가 0 이어야 합니다."
      ],
      "metadata": {
        "id": "99IhF5sFWzXU"
      },
      "execution_count": null,
      "outputs": []
    },
    {
      "cell_type": "code",
      "source": [
        "x <- tapply( emp$sal, list(emp$deptno,emp$job) , sum )\n",
        "\n",
        "x[is.na(x)] <- 0   # True 자리에 0 이 들어갑니다.\n",
        "x"
      ],
      "metadata": {
        "colab": {
          "base_uri": "https://localhost:8080/",
          "height": 161
        },
        "id": "0-EARaUTWzaf",
        "outputId": "42e77e46-42d0-4383-f975-5060d894b1b0"
      },
      "execution_count": 41,
      "outputs": [
        {
          "output_type": "display_data",
          "data": {
            "text/html": [
              "<table class=\"dataframe\">\n",
              "<caption>A matrix: 3 × 5 of type dbl</caption>\n",
              "<thead>\n",
              "\t<tr><th></th><th scope=col>ANALYST</th><th scope=col>CLERK</th><th scope=col>MANAGER</th><th scope=col>PRESIDENT</th><th scope=col>SALESMAN</th></tr>\n",
              "</thead>\n",
              "<tbody>\n",
              "\t<tr><th scope=row>10</th><td>   0</td><td>1300</td><td>2450</td><td>5000</td><td>   0</td></tr>\n",
              "\t<tr><th scope=row>20</th><td>6000</td><td>1900</td><td>2975</td><td>   0</td><td>   0</td></tr>\n",
              "\t<tr><th scope=row>30</th><td>   0</td><td> 950</td><td>2850</td><td>   0</td><td>5600</td></tr>\n",
              "</tbody>\n",
              "</table>\n"
            ],
            "text/markdown": "\nA matrix: 3 × 5 of type dbl\n\n| <!--/--> | ANALYST | CLERK | MANAGER | PRESIDENT | SALESMAN |\n|---|---|---|---|---|---|\n| 10 |    0 | 1300 | 2450 | 5000 |    0 |\n| 20 | 6000 | 1900 | 2975 |    0 |    0 |\n| 30 |    0 |  950 | 2850 |    0 | 5600 |\n\n",
            "text/latex": "A matrix: 3 × 5 of type dbl\n\\begin{tabular}{r|lllll}\n  & ANALYST & CLERK & MANAGER & PRESIDENT & SALESMAN\\\\\n\\hline\n\t10 &    0 & 1300 & 2450 & 5000 &    0\\\\\n\t20 & 6000 & 1900 & 2975 &    0 &    0\\\\\n\t30 &    0 &  950 & 2850 &    0 & 5600\\\\\n\\end{tabular}\n",
            "text/plain": [
              "   ANALYST CLERK MANAGER PRESIDENT SALESMAN\n",
              "10    0    1300  2450    5000         0    \n",
              "20 6000    1900  2975       0         0    \n",
              "30    0     950  2850       0      5600    "
            ]
          },
          "metadata": {}
        }
      ]
    },
    {
      "cell_type": "code",
      "source": [
        "# 문제52. 아래의 결과를 R 로 출력하시오\n",
        "\n",
        "    \t10\t    20  \t30\n",
        "1980\t0\t    800\t    0\n",
        "1981\t7450\t5975\t9400\n",
        "1982\t1300\t3000\t0\n",
        "1983\t0\t    1100\t0\n"
      ],
      "metadata": {
        "id": "58yGdkaEYOvW"
      },
      "execution_count": null,
      "outputs": []
    },
    {
      "cell_type": "code",
      "source": [
        "#답:\n",
        "\n"
      ],
      "metadata": {
        "id": "pVX0upYqYOya"
      },
      "execution_count": 43,
      "outputs": []
    },
    {
      "cell_type": "code",
      "source": [
        "# 문법4. 아래의 x 변수의 결과에서 컬럼명과 로우명을 출력하시오 !"
      ],
      "metadata": {
        "id": "AmX3wTX-YO1S"
      },
      "execution_count": null,
      "outputs": []
    },
    {
      "cell_type": "code",
      "source": [
        "x <- tapply( emp$sal, list(format(as.Date(emp$hiredate), '%Y'),emp$deptno) , sum )\n",
        "x[is.na(x)] <- 0\n",
        "colnames(x)\n",
        "rownames(x)"
      ],
      "metadata": {
        "id": "WRjX86rgYfBx"
      },
      "execution_count": null,
      "outputs": []
    },
    {
      "cell_type": "code",
      "source": [
        "# 문법5. 위의 출력된 결과로 막대 그래프를 그리시오 !\n",
        "\n",
        " 원형그래프 ?   데이터간의 비율을 확인할 때 유용한 그래프\n",
        " 막대그래프 ?   데이터간의 크기의 크기의 차이를 확인할 때 유용한 그래프\n",
        " 라인그래프 ?   시계열 데이터의 시기별 추이를 확인할 때 유용한 그래프"
      ],
      "metadata": {
        "id": "YEmwX19eYfE6"
      },
      "execution_count": null,
      "outputs": []
    },
    {
      "cell_type": "code",
      "source": [
        "x <- tapply( emp$sal, list(format(as.Date(emp$hiredate), '%Y'),emp$deptno) , sum )\n",
        "x[is.na(x)] <- 0\n",
        "barplot( x, col=rainbow(5), legend=rownames(x), beside=T, density=50 )"
      ],
      "metadata": {
        "colab": {
          "base_uri": "https://localhost:8080/",
          "height": 437
        },
        "id": "uCIs5pBZYfH7",
        "outputId": "bce4a027-72a2-48cb-a684-cfcccd6deda9"
      },
      "execution_count": 45,
      "outputs": [
        {
          "output_type": "display_data",
          "data": {
            "text/plain": [
              "plot without title"
            ],
            "image/png": "[encoded data removed]"
          },
          "metadata": {
            "image/png": {
              "width": 420,
              "height": 420
            }
          }
        }
      ]
    },
    {
      "cell_type": "code",
      "source": [
        "문제53. 타이타닉 데이터 프레임을 생성하시오 !"
      ],
      "metadata": {
        "id": "kthAbuDjYfK3"
      },
      "execution_count": null,
      "outputs": []
    },
    {
      "cell_type": "code",
      "source": [
        "#답:\n",
        "\n"
      ],
      "metadata": {
        "id": "JJuizirDYfNk"
      },
      "execution_count": null,
      "outputs": []
    },
    {
      "cell_type": "code",
      "source": [
        "문제54. 아래의 SQL을 R 로 구현하시오 ! 클래스별 성별별 인원수를 출력하시오 !\n",
        "\n",
        "\n",
        "           female  male\n",
        "First       94     122\n",
        "Second      76     108\n",
        "Third      144     347\n"
      ],
      "metadata": {
        "id": "LQTlIM0_YfQ_"
      },
      "execution_count": null,
      "outputs": []
    },
    {
      "cell_type": "code",
      "source": [
        "#답:\n",
        "\n"
      ],
      "metadata": {
        "id": "lF3Rm-scZAI_"
      },
      "execution_count": null,
      "outputs": []
    },
    {
      "cell_type": "code",
      "source": [
        "문제55. 위의 결과를 보기 이해하기 좋도록 막대그래프로 시각화 하시오 !"
      ],
      "metadata": {
        "id": "nKWlnXCxZALp"
      },
      "execution_count": null,
      "outputs": []
    },
    {
      "cell_type": "code",
      "source": [
        "#답:\n",
        "\n"
      ],
      "metadata": {
        "id": "Cs_WbOWGZAOI"
      },
      "execution_count": null,
      "outputs": []
    },
    {
      "cell_type": "code",
      "source": [
        "문제56.  직업, 직업별 토탈월급을 가로로 출력하시오 !"
      ],
      "metadata": {
        "id": "xKFiPNLwZAQ6"
      },
      "execution_count": null,
      "outputs": []
    },
    {
      "cell_type": "code",
      "source": [
        "#답:\n",
        "\n"
      ],
      "metadata": {
        "id": "s7lElcQBZGov"
      },
      "execution_count": null,
      "outputs": []
    },
    {
      "cell_type": "code",
      "source": [
        "문제57. 직업과 직업별 토탈월급을 가지고 원형(pie) 그래프로 그리시오 !"
      ],
      "metadata": {
        "id": "X6vuEJ8iZGsG"
      },
      "execution_count": null,
      "outputs": []
    },
    {
      "cell_type": "code",
      "source": [
        "#답:\n",
        "\n"
      ],
      "metadata": {
        "id": "w9X4UmWTZGva"
      },
      "execution_count": null,
      "outputs": []
    },
    {
      "cell_type": "code",
      "source": [
        "문제58. 위의 그래프를 3D 로 그리시오 !"
      ],
      "metadata": {
        "id": "KDgIW2-9ZGx3"
      },
      "execution_count": null,
      "outputs": []
    },
    {
      "cell_type": "code",
      "source": [
        "#답:\n",
        "\n"
      ],
      "metadata": {
        "id": "wcZaP_FcZG0u"
      },
      "execution_count": null,
      "outputs": []
    },
    {
      "cell_type": "code",
      "source": [
        "문제59. 위의 원형 그래프에 비율을 표시하기 위한 데이터를 만드시오 !"
      ],
      "metadata": {
        "id": "o3mYVjB3ZG3Z"
      },
      "execution_count": null,
      "outputs": []
    },
    {
      "cell_type": "code",
      "source": [
        "#답:\n",
        "\n"
      ],
      "metadata": {
        "id": "hUjC0UyNZG6j"
      },
      "execution_count": null,
      "outputs": []
    },
    {
      "cell_type": "code",
      "source": [
        "문제60.  일반 원형 그래프에 job_label 을 사용해서 시각화 하시오 !"
      ],
      "metadata": {
        "id": "vVAuuAR5ZG9C"
      },
      "execution_count": null,
      "outputs": []
    },
    {
      "cell_type": "code",
      "source": [
        "#답:\n",
        "\n"
      ],
      "metadata": {
        "id": "nuXCjpdnZG__"
      },
      "execution_count": null,
      "outputs": []
    },
    {
      "cell_type": "code",
      "source": [
        "문제61.  3D 원형 그래프에 job_label 을 사용해서 시각화 하시오 !"
      ],
      "metadata": {
        "id": "OxwHXuegZHC5"
      },
      "execution_count": null,
      "outputs": []
    },
    {
      "cell_type": "code",
      "source": [
        "#답:\n",
        "\n"
      ],
      "metadata": {
        "id": "Z3urx1cZZHFn"
      },
      "execution_count": null,
      "outputs": []
    },
    {
      "cell_type": "code",
      "source": [
        "문제62.  타이타닉 데이터의 데이터의 성별의 비율을 원형 그래프로 시각화 하기 위해서\n",
        "         성별, 성별별 인원수를 가로로 출력하시오 !"
      ],
      "metadata": {
        "id": "weloE2wpZHIV"
      },
      "execution_count": null,
      "outputs": []
    },
    {
      "cell_type": "code",
      "source": [
        "#답:\n",
        "\n"
      ],
      "metadata": {
        "id": "TvHxZuhxZHLW"
      },
      "execution_count": null,
      "outputs": []
    },
    {
      "cell_type": "code",
      "source": [
        "문제63.  원형 그래프의  비율을 라벨로 붙이기 위해서 성별별 인원수에 대한\n",
        "         비율에 데이터를 만드시오 !"
      ],
      "metadata": {
        "id": "zM0p_0s1ZV3u"
      },
      "execution_count": null,
      "outputs": []
    },
    {
      "cell_type": "code",
      "source": [
        "#답:\n",
        "\n"
      ],
      "metadata": {
        "id": "DC-TAPR5ZV6Z"
      },
      "execution_count": null,
      "outputs": []
    },
    {
      "cell_type": "code",
      "source": [
        "문제64. 타이타닉 성별에 대한 비율을 한눈에 확인하기 좋도록 원형 그래프를 시각화 하시오 !"
      ],
      "metadata": {
        "id": "g6ZCWI_4ZV85"
      },
      "execution_count": null,
      "outputs": []
    },
    {
      "cell_type": "code",
      "source": [
        "#답:\n",
        "\n"
      ],
      "metadata": {
        "id": "U04QxYpkZV_w"
      },
      "execution_count": null,
      "outputs": []
    },
    {
      "cell_type": "code",
      "source": [
        "▣ 예제28. R에서의 데이터 병합을 알아야해요\n",
        "\n",
        "# 문법1.  dept.csv 를 내려받아 dept 데이터 프레임을 생성하시오"
      ],
      "metadata": {
        "id": "uZ3TigizZWCi"
      },
      "execution_count": null,
      "outputs": []
    },
    {
      "cell_type": "code",
      "source": [
        "dept <- read.csv(\"dept.csv\", header=T)\n",
        "dept"
      ],
      "metadata": {
        "colab": {
          "base_uri": "https://localhost:8080/",
          "height": 223
        },
        "id": "qTuRjUAoZWFa",
        "outputId": "5713b37f-956f-4754-e2b4-fc7867f2abd4"
      },
      "execution_count": 47,
      "outputs": [
        {
          "output_type": "display_data",
          "data": {
            "text/html": [
              "<table class=\"dataframe\">\n",
              "<caption>A data.frame: 4 × 3</caption>\n",
              "<thead>\n",
              "\t<tr><th scope=col>deptno</th><th scope=col>dname</th><th scope=col>loc</th></tr>\n",
              "\t<tr><th scope=col>&lt;int&gt;</th><th scope=col>&lt;chr&gt;</th><th scope=col>&lt;chr&gt;</th></tr>\n",
              "</thead>\n",
              "<tbody>\n",
              "\t<tr><td>10</td><td>ACCOUNTING</td><td>NEW YORK</td></tr>\n",
              "\t<tr><td>20</td><td>RESEARCH  </td><td>DALLAS  </td></tr>\n",
              "\t<tr><td>30</td><td>SALES     </td><td>CHICAGO </td></tr>\n",
              "\t<tr><td>40</td><td>OPERATIONS</td><td>BOSTON  </td></tr>\n",
              "</tbody>\n",
              "</table>\n"
            ],
            "text/markdown": "\nA data.frame: 4 × 3\n\n| deptno &lt;int&gt; | dname &lt;chr&gt; | loc &lt;chr&gt; |\n|---|---|---|\n| 10 | ACCOUNTING | NEW YORK |\n| 20 | RESEARCH   | DALLAS   |\n| 30 | SALES      | CHICAGO  |\n| 40 | OPERATIONS | BOSTON   |\n\n",
            "text/latex": "A data.frame: 4 × 3\n\\begin{tabular}{lll}\n deptno & dname & loc\\\\\n <int> & <chr> & <chr>\\\\\n\\hline\n\t 10 & ACCOUNTING & NEW YORK\\\\\n\t 20 & RESEARCH   & DALLAS  \\\\\n\t 30 & SALES      & CHICAGO \\\\\n\t 40 & OPERATIONS & BOSTON  \\\\\n\\end{tabular}\n",
            "text/plain": [
              "  deptno dname      loc     \n",
              "1 10     ACCOUNTING NEW YORK\n",
              "2 20     RESEARCH   DALLAS  \n",
              "3 30     SALES      CHICAGO \n",
              "4 40     OPERATIONS BOSTON  "
            ]
          },
          "metadata": {}
        }
      ]
    },
    {
      "cell_type": "code",
      "source": [
        "# 문법2. 이름과 부서위치를 출력하시오 !"
      ],
      "metadata": {
        "id": "OvXD8BWYZWIK"
      },
      "execution_count": null,
      "outputs": []
    },
    {
      "cell_type": "code",
      "source": [
        "x <- merge( emp,  dept , by=\"deptno\")\n",
        "\n",
        "x[      , c(\"ename\", \"loc\") ]"
      ],
      "metadata": {
        "id": "Y8K8eRo8ZWKu"
      },
      "execution_count": null,
      "outputs": []
    },
    {
      "cell_type": "code",
      "source": [
        "문제65. DALLAS 에서 근무하는 사원들의 이름과 월급과 부서위치를 출력하시오 !"
      ],
      "metadata": {
        "id": "uFfzZHCNZWOA"
      },
      "execution_count": null,
      "outputs": []
    },
    {
      "cell_type": "code",
      "source": [
        "#답:\n",
        "\n"
      ],
      "metadata": {
        "id": "WxWIntyRZWQY"
      },
      "execution_count": null,
      "outputs": []
    },
    {
      "cell_type": "code",
      "source": [
        "문제66. 커미션이 null 인 사원들의 이름과 부서위치와 커미션을 출력하시오 !"
      ],
      "metadata": {
        "id": "ExqF8aF1ZWTP"
      },
      "execution_count": null,
      "outputs": []
    },
    {
      "cell_type": "code",
      "source": [
        "#답:\n",
        "\n"
      ],
      "metadata": {
        "id": "lL38rGNCZWVr"
      },
      "execution_count": null,
      "outputs": []
    },
    {
      "cell_type": "code",
      "source": [
        "▣ 예제29. R에서의 outer join 을 알아야해요\n",
        "\n",
        "#문법1. 이름과 부서위치를 출력하는데 dept 데이터 프레임의 BOSTON도 나오게 하시오\n",
        "\n",
        "SQL> select  e.ename, d.loc\n",
        "      from   emp   e,   dept   d\n",
        "      where  e.deptno = d.deptno (+);\n",
        "\n",
        "ename\tloc\n",
        "KING\tNEW YORK\n",
        "MILLER\tNEW YORK\n",
        "CLARK\tNEW YORK\n",
        "JONES\tDALLAS\n",
        "SMITH\tDALLAS\n",
        "SCOTT\tDALLAS\n",
        "ADAMS\tDALLAS\n",
        "FORD\tDALLAS\n",
        "JAMES\tCHICAGO\n",
        "MARTIN\tCHICAGO\n",
        "BLAKE\tCHICAGO\n",
        "TURNER\tCHICAGO\n",
        "WARD\tCHICAGO\n",
        "ALLEN\tCHICAGO\n",
        "NA\t    BOSTON\n",
        "\n",
        "\n",
        "R> x <- merge( emp,  dept,  by=\"deptno\", all.y=T )\n",
        "                ↑     ↑\n",
        "                x       y\n",
        "\n",
        "설명: all.y=T 는 dept 테이블 쪽에 데이터가 모두 나오게 해라 !\n",
        "\n",
        " x [              , c(\"ename\", \"loc\") ]"
      ],
      "metadata": {
        "id": "ekeDHC1LZWYg"
      },
      "execution_count": null,
      "outputs": []
    },
    {
      "cell_type": "code",
      "source": [
        "x <- merge( emp,  dept,  by=\"deptno\", all.y=T )\n",
        "x [              , c(\"ename\", \"loc\") ]"
      ],
      "metadata": {
        "id": "pY2wLonzZWbt"
      },
      "execution_count": null,
      "outputs": []
    },
    {
      "cell_type": "code",
      "source": [
        "문제67. 아래의 결과를 R 로 구현하시오 !\n",
        "\n",
        "SQL> select  e.ename, d.loc\n",
        "      from   emp   e,   dept   d\n",
        "      where  e.deptno = d.deptno (+);\n"
      ],
      "metadata": {
        "id": "aGmchjJ3aGGL"
      },
      "execution_count": null,
      "outputs": []
    },
    {
      "cell_type": "code",
      "source": [
        "#답:\n",
        "\n"
      ],
      "metadata": {
        "id": "6K_F4FhLaGJD"
      },
      "execution_count": null,
      "outputs": []
    },
    {
      "cell_type": "code",
      "source": [
        "문제68.  아래의 SQL을 R 로 구현하시오 !\n",
        "\n",
        "SQL> select  e.ename, d.loc\n",
        "     from   emp   e   full  outer  join   dept   d\n",
        "     on ( e.deptno = d.deptno );"
      ],
      "metadata": {
        "id": "6x3b8QyLaGLx"
      },
      "execution_count": null,
      "outputs": []
    },
    {
      "cell_type": "code",
      "source": [
        "#답:\n",
        "\n"
      ],
      "metadata": {
        "id": "3AwnfhvJaGOl"
      },
      "execution_count": null,
      "outputs": []
    },
    {
      "cell_type": "code",
      "source": [
        "▣ 예제30. R에서의 self join 을 알아야해요\n",
        "\n",
        "#문법1. 아래의 SQL을 R 로 구현하시오 !\n",
        "\n",
        "SQL> select  사원.ename, 관리자.ename\n",
        "          from  emp  사원, emp  관리자\n",
        "          where  사원.mgr  = 관리자.empno;\n",
        "\n",
        "R>  x <-  merge( emp,  emp,  by.x=\"mgr\", by.y=\"empno\")\n",
        "                 ↑     ↑\n",
        "                 x       y\n",
        "\n",
        "   x[              ,  c( \"ename.x\", \"ename.y\") ]\n"
      ],
      "metadata": {
        "id": "EENaNg1RaGRX"
      },
      "execution_count": null,
      "outputs": []
    },
    {
      "cell_type": "code",
      "source": [
        "x <-  merge( emp,  emp,  by.x=\"mgr\", by.y=\"empno\")\n",
        "\n",
        "x[              ,  c( \"ename.x\", \"ename.y\") ]"
      ],
      "metadata": {
        "id": "oZ_9XQsRaGUG"
      },
      "execution_count": null,
      "outputs": []
    },
    {
      "cell_type": "code",
      "source": [
        "문제69. 사원 이름과 관리자의 이름을 출력하는데 사원의 월급이 관리자의 월급보다 많은 사원들을 출력 ?\n",
        "\n",
        "SQL> select  사원.ename, 관리자.ename\n",
        "          from  emp  사원, emp  관리자\n",
        "          where  사원.mgr  = 관리자.empno  and  사원.sal > 관리자.sal ;"
      ],
      "metadata": {
        "id": "8J8pR_TRaGXA"
      },
      "execution_count": null,
      "outputs": []
    },
    {
      "cell_type": "code",
      "source": [
        "#답:\n",
        "\n"
      ],
      "metadata": {
        "id": "Y9hFE-mvaGZd"
      },
      "execution_count": null,
      "outputs": []
    },
    {
      "cell_type": "code",
      "source": [
        "문제70.  문제68번의 결과 데이터를 이해하기 좋도록 시각화 하시오 !\n",
        "           사원 이름과 직속상사의 이름을 가지고 사원 테이블의 조직도를 그리시오 !"
      ],
      "metadata": {
        "id": "0TPZ5BEvaGca"
      },
      "execution_count": null,
      "outputs": []
    },
    {
      "cell_type": "code",
      "source": [
        "#답:\n",
        "\n",
        "library(igraph)\n",
        "\n",
        "x <-  merge( emp,  emp,  by.x=\"mgr\", by.y=\"empno\")\n",
        "\n",
        "a <- x[              ,  c( \"ename.x\", \"ename.y\") ]\n",
        "a\n",
        "\n",
        "b <- graph.data.frame( a, directed=T )\n",
        "plot(b)\n"
      ],
      "metadata": {
        "id": "-5hp64taaGfJ"
      },
      "execution_count": null,
      "outputs": []
    },
    {
      "cell_type": "code",
      "source": [
        "문제71.  위의 그래프를 구글의 googleVis 를 이용해서 시각화 하시오 !\n"
      ],
      "metadata": {
        "id": "otskBXsaaGh3"
      },
      "execution_count": null,
      "outputs": []
    },
    {
      "cell_type": "code",
      "source": [
        "ibrary(googleVis)\n",
        "\n",
        "a <- merge(emp,emp, by.x=\"empno\",by.y=\"mgr\", all.y=T)\n",
        "\n",
        "org <- gvisOrgChart(a, idvar=\"ename.y\",parentvar=\"ename.x\",\n",
        "        options=list(width=600, height=250, size='middle', allowCollapse=T))\n",
        "\n",
        "plot(org)\n"
      ],
      "metadata": {
        "id": "79gZFtK-aGkn"
      },
      "execution_count": null,
      "outputs": []
    },
    {
      "cell_type": "code",
      "source": [
        "설명: width=600 :  조직도 그래프의 너비를 600 픽셀로 지정\n",
        "      height=250 : 조직도 그래프의 높이를 250 픽셀로 지정\n",
        "      size='middle'  : 조직도 그래프의 노드의 크기를 중간으로 지정 (small, large)\n",
        "      allowCollapse=T : 조직도 그래프에서 노드를 클릭하여 해당 하위노드를 숨기거나\n",
        "                       표시할 수 있게 허용하겠다."
      ],
      "metadata": {
        "id": "yvL1NoOraGn8"
      },
      "execution_count": null,
      "outputs": []
    },
    {
      "cell_type": "code",
      "source": [
        "문제72. 부서위치, 부서위치별 토탈월급을 출력하시오 !"
      ],
      "metadata": {
        "id": "_Ey_nE-MaGqH"
      },
      "execution_count": null,
      "outputs": []
    },
    {
      "cell_type": "code",
      "source": [
        "#답:\n",
        "\n"
      ],
      "metadata": {
        "id": "N1bgHlq8b3W0"
      },
      "execution_count": null,
      "outputs": []
    },
    {
      "cell_type": "code",
      "source": [
        "문제73. 위의 결과를 막대 그래프로 시각화 하시오 !"
      ],
      "metadata": {
        "id": "ZKcIlpRnb3Zg"
      },
      "execution_count": null,
      "outputs": []
    },
    {
      "cell_type": "code",
      "source": [
        "#답:\n",
        "\n"
      ],
      "metadata": {
        "id": "l9ilY5Rgb3cN"
      },
      "execution_count": null,
      "outputs": []
    },
    {
      "cell_type": "code",
      "source": [],
      "metadata": {
        "id": "lwSeRHkFb3fa"
      },
      "execution_count": null,
      "outputs": []
    }
  ]
}