{
  "nbformat": 4,
  "nbformat_minor": 0,
  "metadata": {
    "colab": {
      "provenance": [],
      "authorship_tag": "ABX9TyMflpXR7+nQWRRlB+8Ip6bq",
      "include_colab_link": true
    },
    "kernelspec": {
      "name": "ir",
      "display_name": "R"
    },
    "language_info": {
      "name": "R"
    }
  },
  "cells": [
    {
      "cell_type": "markdown",
      "metadata": {
        "id": "view-in-github",
        "colab_type": "text"
      },
      "source": [
        "<a href=\"https://colab.research.google.com/github/oracleyu01/R_class/blob/main/R_%EC%9D%84_%EC%9D%B4%EC%9A%A9%ED%95%9C_%EB%B9%85%EB%B6%84%EA%B8%B0_%EC%8B%A4%EA%B8%B0%EC%A4%80%EB%B9%84_100%EC%A0%9C.ipynb\" target=\"_parent\"><img src=\"https://colab.research.google.com/assets/colab-badge.svg\" alt=\"Open In Colab\"/></a>"
      ]
    },
    {
      "cell_type": "code",
      "execution_count": 9,
      "metadata": {
        "id": "_ur7aFlwm0eY"
      },
      "outputs": [],
      "source": [
        "▣▣ 빅데이터 분석기사 실기 준비를 위한 R 수업전체 목차 ▣▣\n",
        "\n",
        " 1. R 기본 문법 마스터 하기\n",
        " 2. R 을 이용하여 유형1번 준비하기\n",
        " 3. R 을 이용하여 유형2번 준비하기\n",
        " 4. R 을 이용하여 유형3번 준비하기\n",
        " 5. 유형1번 시험1회부터 기출문제 풀이\n",
        " 6. 유형2번 시험1회부터 기출문제 풀이\n",
        " 7. 유형3번 시험1회부터 기출문제 풀이\n",
        " 8. 시험 환경에서 꼭 챙겨야할 팁들 !"
      ]
    },
    {
      "cell_type": "code",
      "source": [
        "#▣ 1. R 기본 문법 마스터 하기"
      ],
      "metadata": {
        "id": "Vw7IADiqv5f3"
      },
      "execution_count": null,
      "outputs": []
    },
    {
      "cell_type": "code",
      "source": [
        "\n",
        "▣▣ 예제1. R 을 배워야하는 이유 ?\n",
        "\n",
        "  데이터 분석가나 데이터 엔지니어 모집요강에 SQL과 R, Python은 필수 입니다.\n",
        "\n",
        "데이터 분석이 필요한 이유 ?\n",
        "\n",
        " 카카오톡이 2010년 3월에 서비스를 시작한 이후에 폭발적으로 성장해서\n",
        " 2012년 말에 8000 만명의 가입자를 넘어섰습니다.\n",
        " 하루 평균 43분간 카카오톡을하고 하루 방문자가 2700 만명,\n",
        " 하루 최대 메세지 이용건수가 42억건에 달합니다.\n",
        "\n",
        " 문자해 ---카톡해\n",
        "\n",
        " 이런 성공에도 불구하고 초창기때 마땅한 수익 모델이 없어서\n",
        "\n",
        " 2010년 41억 적자\n",
        " 2011년 153억 적자\n",
        "                <----------- 데이터 분석가가 카톡 사용자들에 대한 data  분석을 한 다음\n",
        "\n",
        " 2012년에 애니팡의 인기에 힘입어 흑자라인으로 돌아섰습니다.\n",
        " 개발자 통장에 하루 1억씩 입금\n",
        "\n",
        " 데이터 분석을 어떻게 했는가 ?\n",
        "\n",
        " 카톡 사용자들을 분석했는데\n",
        "\n",
        " 1. 누가(성별,연령)\n",
        " 2. 무엇을(게임 아이템)\n",
        " 3. 언제 (아이템 구매시간)\n",
        " 4. 얼마나 (아이템 구매빈도)\n",
        " 5. 어떻게 (결제방법)\n"
      ],
      "metadata": {
        "id": "wpo0Eoia6z4O"
      },
      "execution_count": null,
      "outputs": []
    },
    {
      "cell_type": "code",
      "source": [
        "■ R 이란 무엇인가 ?\n",
        "\n",
        "  뉴질랜드 aukland  대학교에서 1995년도에 개발한 소프트웨어입니다.\n",
        "  데이터 분석을 위한 통계 및 그래픽스를 지원하는 무료 소트프웨어입니다.\n",
        "\n",
        "■ R 을 왜 사용해야하는가 ?\n",
        "\n",
        " 1. R  is  free\n",
        " 2. 데이터 분석을 위해서 가장 많이 쓰는 통계 플랫폼\n",
        " 3. 파이썬 보다 훨씬 훌륭한 통계 패키지들이 많습니다.\n",
        " 4. 누구든지 유용한 패키지를 생성해서 공유할 수 있고 새로운 기능에 대한 전달이 빠름\n",
        " 5. 데이터 시각화가 예술입니다."
      ],
      "metadata": {
        "id": "7CfysX52uujq"
      },
      "execution_count": null,
      "outputs": []
    },
    {
      "cell_type": "code",
      "source": [
        "▣▣ 예제2. 구글 코렙에서 R 사용하기\n",
        "\n",
        "■ 실습에 필요한 데이터를 구글 코렙에 올립니다.\n",
        "\n",
        "데이터는 아래의 주소에서 다운받으시면 됩니다.\n",
        "\n",
        "https://cafe.daum.net/oracleoracle/Smgg/1\n",
        "\n",
        "다운받고 압축을 푸시면 csv 파일이 여러개 보이는데 그 파일들을 코렙 화면 오른쪽에 네모 박스(파일)\n",
        "을 누르시고 화살표 위 모양으로 된 업로드 버튼을 누르시고 올리시면 됩니다."
      ],
      "metadata": {
        "id": "GXObZHKbwzB-"
      },
      "execution_count": null,
      "outputs": []
    },
    {
      "cell_type": "code",
      "source": [
        "# 문제1. emp 데이터 프레임에 이름과 월급을 출력하시오\n",
        "\n",
        "emp <- read.csv(\"emp.csv\", header=T)\n",
        "emp\n",
        "\n",
        "emp[  ,c(\"ename\",\"sal\")]"
      ],
      "metadata": {
        "id": "n2A6KbiA7JyD"
      },
      "execution_count": null,
      "outputs": []
    },
    {
      "cell_type": "code",
      "source": [
        "▣▣ 예제3. SQL 과  R 과의 차이점은 무엇인가 ?\n",
        "\n",
        " 1. R 은 데이터 시각화가 됩니다.\n",
        " 2. 아주 긴 SQL 코드를  R 코드로는 단순하게 작성할 수 있습니다.\n",
        " 3. 아주 훌륭한 데이터 분석 패키지들이 많이 있습니다.\n",
        "\n",
        "예:\n",
        "\n",
        "SQL> select  job, sum(decode(deptno, 10, sal, null ) )  as \"10\",\n",
        "                   sum(decode(deptno, 20, sal, null ) )  as \"20\",\n",
        "                    sum(decode(deptno, 30, sal, null ) )  as \"30\"\n",
        "      from  emp\n",
        "      group  by   job;"
      ],
      "metadata": {
        "id": "WnR3LMsn7SbH"
      },
      "execution_count": null,
      "outputs": []
    },
    {
      "cell_type": "code",
      "source": [
        "attach(emp)\n",
        "\n",
        "tapply( sal,  list(job, deptno), sum )"
      ],
      "metadata": {
        "colab": {
          "base_uri": "https://localhost:8080/",
          "height": 223
        },
        "id": "MiNm8P9c7fpd",
        "outputId": "68069a64-c101-49f2-a29e-8b4cf3801caa"
      },
      "execution_count": 18,
      "outputs": [
        {
          "output_type": "display_data",
          "data": {
            "text/html": [
              "<table class=\"dataframe\">\n",
              "<caption>A matrix: 5 × 3 of type int</caption>\n",
              "<thead>\n",
              "\t<tr><th></th><th scope=col>10</th><th scope=col>20</th><th scope=col>30</th></tr>\n",
              "</thead>\n",
              "<tbody>\n",
              "\t<tr><th scope=row>ANALYST</th><td>  NA</td><td>6000</td><td>  NA</td></tr>\n",
              "\t<tr><th scope=row>CLERK</th><td>1300</td><td>1900</td><td> 950</td></tr>\n",
              "\t<tr><th scope=row>MANAGER</th><td>2450</td><td>2975</td><td>2850</td></tr>\n",
              "\t<tr><th scope=row>PRESIDENT</th><td>5000</td><td>  NA</td><td>  NA</td></tr>\n",
              "\t<tr><th scope=row>SALESMAN</th><td>  NA</td><td>  NA</td><td>5600</td></tr>\n",
              "</tbody>\n",
              "</table>\n"
            ],
            "text/markdown": "\nA matrix: 5 × 3 of type int\n\n| <!--/--> | 10 | 20 | 30 |\n|---|---|---|---|\n| ANALYST |   NA | 6000 |   NA |\n| CLERK | 1300 | 1900 |  950 |\n| MANAGER | 2450 | 2975 | 2850 |\n| PRESIDENT | 5000 |   NA |   NA |\n| SALESMAN |   NA |   NA | 5600 |\n\n",
            "text/latex": "A matrix: 5 × 3 of type int\n\\begin{tabular}{r|lll}\n  & 10 & 20 & 30\\\\\n\\hline\n\tANALYST &   NA & 6000 &   NA\\\\\n\tCLERK & 1300 & 1900 &  950\\\\\n\tMANAGER & 2450 & 2975 & 2850\\\\\n\tPRESIDENT & 5000 &   NA &   NA\\\\\n\tSALESMAN &   NA &   NA & 5600\\\\\n\\end{tabular}\n",
            "text/plain": [
              "          10   20   30  \n",
              "ANALYST     NA 6000   NA\n",
              "CLERK     1300 1900  950\n",
              "MANAGER   2450 2975 2850\n",
              "PRESIDENT 5000   NA   NA\n",
              "SALESMAN    NA   NA 5600"
            ]
          },
          "metadata": {}
        }
      ]
    },
    {
      "cell_type": "code",
      "source": [
        "pie( emp$sal,  col=rainbow(14) )"
      ],
      "metadata": {
        "colab": {
          "base_uri": "https://localhost:8080/",
          "height": 437
        },
        "id": "pfUow2Wm7baB",
        "outputId": "40fef0df-0e8c-47b9-f62e-c52e7d89aec2"
      },
      "execution_count": 19,
      "outputs": [
        {
          "output_type": "display_data",
          "data": {
            "text/plain": [
              "plot without title"
            ],
            "image/png": "[encoded data removed]"
          },
          "metadata": {
            "image/png": {
              "width": 420,
              "height": 420
            }
          }
        }
      ]
    },
    {
      "cell_type": "code",
      "source": [
        "▣▣ 예제4. R의 자료 구조 5가지\n",
        "\n",
        "관련그림 : https://cafe.daum.net/oracleoracle/Sotv/4\n",
        "\n",
        "1. vector : 같은 데이터 타입을 갖는 1차원 배열구조\n",
        "2. matrix : 같은 데이터 타입을 갖는 2차원 배열구조\n",
        "3. array   : 같은 데이터 타입을 갖는 다차원 배열구조\n",
        "4. dataframe : 서로 다른 데이터 타입을 갖는 2차원 배열구조(오라클의 테이블)\n",
        "5. list :  서로 다른 데이터 구조(vector, matrix, array, dataframe) 인 데이터 타입이 중첩된 구조\n"
      ],
      "metadata": {
        "id": "LkOA66EaraRD"
      },
      "execution_count": null,
      "outputs": []
    },
    {
      "cell_type": "code",
      "source": [
        "■ 실습예제1.  emp 데이터 프레임의 구조를 확인하시오 !\n",
        "\n",
        "str(emp)\n"
      ],
      "metadata": {
        "id": "L1M_9NBd9QG1"
      },
      "execution_count": null,
      "outputs": []
    },
    {
      "cell_type": "code",
      "source": [
        "▣▣ 예제5. 데이터 검색하기\n",
        "\n",
        "문법 :    데이터 프레임에서 데이터 검색하는 문법\n",
        "\n",
        ">  emp[ 행 ,  열 ]\n",
        "\n",
        ">  emp[          , c(\"ename\",\"sal\") ]\n",
        "                      ↑\n",
        "                  combine\n",
        "\n",
        ">  emp[  emp$sal >= 3000,  c(\"ename\",\"sal\",\"job\") ]\n"
      ],
      "metadata": {
        "id": "jQtTLd805id8"
      },
      "execution_count": null,
      "outputs": []
    },
    {
      "cell_type": "code",
      "source": [
        "# 문제1.  직업이 SALESMAN 인 사원들의 이름과 월급과 직업을 출력하시오 !\n",
        "\n",
        "#답:\n",
        "\n"
      ],
      "metadata": {
        "id": "eLYdcMH85wbz"
      },
      "execution_count": null,
      "outputs": []
    },
    {
      "cell_type": "code",
      "source": [
        "▣▣ 예제6. R 연산자 3가지\n",
        "\n",
        " 1. 산술 연산자  :  *   /   +    -\n",
        " 2. 비교 연산자  :   >,  <, >=, <=, ==, !=\n",
        " 3. 논리 연산자  :   &   : and  (백터화된 연산)\n",
        "                    &&  : and  (백터화 되지 않은 연산)\n",
        "                     |   :  or   (백터화된 연산)\n",
        "                    ||   :   or  (백터화 되지 않은 연산)\n",
        "                    !    :   not"
      ],
      "metadata": {
        "id": "Uup0s_aS6ZeN"
      },
      "execution_count": null,
      "outputs": []
    },
    {
      "cell_type": "code",
      "source": [
        "■ 실습예제1.  직업이 SALESMAN 이고 월급이 1200 이상인 사원들의 이름과 월급과 직업을 출력하시오 !\n",
        "\n",
        "> emp[ (emp$job=='SALESMAN') & ( emp$sal >= 1200 ), c(\"ename\",\"sal\",\"job\") ]\n",
        "\n",
        "설명: emp$job 의 데이터 유형이 vector 입니다.\n",
        "      이런 vector 를 가지고 and 를 사용해야할 때는 &  를 쓰면 됩니다.\n"
      ],
      "metadata": {
        "id": "TbNPru5r6ZlR"
      },
      "execution_count": null,
      "outputs": []
    },
    {
      "cell_type": "code",
      "source": [
        "■ 실습예제2.  백터화 되지 않은 연산으로 and 를 사용해보시오 !\n",
        "\n",
        "# x 라는 백터를 생성했습니다.\n",
        "\n",
        ">  x <- c(1,2,3)\n",
        ">  x\n",
        ">  x > c(1,1,1)  &  x < c(3,3,3)\n",
        "\n",
        "# 백터화 되지 않은 and 연산은 다음과 같습니다.\n",
        "\n",
        "> x <- 1\n",
        "> str(x)\n",
        "\n",
        "요소가 1개밖에 없기 때문에 배열은 아닙니다.\n",
        "백터는 같은 데이터 타입을 같는 1차원 배열구조가 벡터인데\n",
        "위의 x 변수는 값이 1개니까 백터는 아닙니다.\n",
        "백터는 아니고 숫자 1개를 담은 숫자형 변수입니다.\n",
        "\n",
        ">   x <- 1\n",
        ">   x > -2    &&   x < 2\n"
      ],
      "metadata": {
        "id": "rkxSGVGI6Zog"
      },
      "execution_count": null,
      "outputs": []
    },
    {
      "cell_type": "code",
      "source": [
        "#문제2. 부서번호가 10번 이거나  직업이 SALESMAN인 사원들의 이름과 월급과\n",
        "#       직업과 부서번호를 출력하시오 !\n",
        "\n",
        "#답:\n"
      ],
      "metadata": {
        "id": "DQTMEFLW6Z5W"
      },
      "execution_count": null,
      "outputs": []
    },
    {
      "cell_type": "code",
      "source": [
        "#문제3. (빅분기 실기 기출유형1)  직업이 SALESMAN 이고 부서번호가 30번인 사원들이\n",
        "#       전부 몇명이 있는지 출력하시오 !\n",
        "\n",
        "#답:\n"
      ],
      "metadata": {
        "id": "NbOzilBn6Z8l"
      },
      "execution_count": null,
      "outputs": []
    },
    {
      "cell_type": "code",
      "source": [
        "\n",
        "▣▣ 예제7. 연결 연산자를 알아야해요 !\n",
        "\n",
        " R 에서의 연결 연산자는   paste    입니다.\n",
        "\n",
        "문법:\n",
        "SQL>  select  ename  ||  ' 의 직업은 '  ||  job\n",
        "           from  emp;\n",
        "\n",
        "R>  paste( emp$ename , ' 의 직업은 ' , emp$job  )\n",
        "\n",
        "오라클처럼 결과를 예쁘게 보고 싶으면 패키지를 설치를 해야합니다.\n",
        "\n",
        "1. data.table 패키지를 설치합니다.\n",
        "\n",
        "install.packages(\"data.table\")\n",
        "\n",
        "2. data.table 패키지를 사용하겠다고 지정합니다.\n",
        "\n",
        "library(data.table)\n",
        "\n",
        "3. data.table 을 이용해서 이름과 직업을 출력합니다.\n",
        "\n",
        "data.table( emp$ename, ' 의 직업은 ', emp$job )\n",
        "\n",
        "4. data.table 패키지에 대한 사용 메뉴얼을 여시오\n",
        "\n",
        "?data.table\n"
      ],
      "metadata": {
        "id": "8v8cg4Ys6Z_t"
      },
      "execution_count": null,
      "outputs": []
    },
    {
      "cell_type": "code",
      "source": [
        "# 문제4.  아래와 같이 이름과 직업을 연결해서 출력하세요\n",
        "\n",
        "MARTIN\t의 직업은\tSALESMAN\n",
        "ALLEN\t의 직업은\tSALESMAN\n",
        "TURNER\t의 직업은\tSALESMAN\n",
        "WARD\t의 직업은\tSALESMAN"
      ],
      "metadata": {
        "id": "nvGyWU9Y6aDX"
      },
      "execution_count": null,
      "outputs": []
    },
    {
      "cell_type": "code",
      "source": [
        "#답:\n",
        "result <-  emp[ emp$job=='SALESMAN', c(\"ename\",\"job\") ]\n",
        "result\n",
        "\n",
        "str(result)  # 데이터 프레임입니다.\n"
      ],
      "metadata": {
        "id": "vDbtRaRrASZt"
      },
      "execution_count": null,
      "outputs": []
    },
    {
      "cell_type": "code",
      "source": [
        "library(data.table)\n",
        "data.table( result$ename, ' 의 직업은 ' , result$job )\n"
      ],
      "metadata": {
        "id": "8SRJlCss_TIs"
      },
      "execution_count": null,
      "outputs": []
    },
    {
      "cell_type": "code",
      "source": [
        "▣▣ 예제8. 여러개의 데이터를 검색할 때는 %in% 를 사용해야해요 !\n",
        "\n",
        " 오라클의 기타 비교연산자 4가지와 R  과의 비교  !\n",
        "\n",
        "                  SQL                        vs               R\n",
        "\n",
        " 1.               in                                           %in%\n",
        " 2.               like                                         grep\n",
        " 3.              is  null                                      is.na\n",
        " 4.            between ..  and                    (emp$sal >= 1000 ) & (emp$sal <=3000)\n"
      ],
      "metadata": {
        "id": "m73bWwqq_d-g"
      },
      "execution_count": null,
      "outputs": []
    },
    {
      "cell_type": "code",
      "source": [
        "■ 실습예제1. 직업이 SALESMAN , ANALYST 인 사원들의 이름과 월급과 직업을 출력하시오\n",
        "\n",
        "답: emp[ emp$job  %in% c(\"SALESMAN\", \"ANALYST\"), c(\"ename\",\"sal\",\"job\") ]"
      ],
      "metadata": {
        "id": "r9Bse3wV_eBi"
      },
      "execution_count": null,
      "outputs": []
    },
    {
      "cell_type": "code",
      "source": [
        "문제5.  부서번호가 10번, 20번인 사원들의 이름과 월급과 부서번호를 출력하시오 !\n",
        "\n"
      ],
      "metadata": {
        "id": "lH6Bk26w_eEk"
      },
      "execution_count": null,
      "outputs": []
    },
    {
      "cell_type": "code",
      "source": [
        "#답:\n"
      ],
      "metadata": {
        "id": "c2_eWOW_F66L"
      },
      "execution_count": null,
      "outputs": []
    },
    {
      "cell_type": "code",
      "source": [
        "문제6. 부서번호가 10번, 20번이 아닌 사원들의 이름과 월급과 부서번호를 출력하시오 !\n",
        "\n"
      ],
      "metadata": {
        "id": "KYcATUco_ePS"
      },
      "execution_count": null,
      "outputs": []
    },
    {
      "cell_type": "code",
      "source": [
        "#답:\n"
      ],
      "metadata": {
        "id": "kA37-oxiF-Y0"
      },
      "execution_count": null,
      "outputs": []
    },
    {
      "cell_type": "code",
      "source": [
        "▣▣ 예제9. 결측치 데이터를 검색할 때는 is.na 함수를 사용해야해요 !\n",
        "\n",
        " 데이터 분석은 결측치 처리를 어떻게 해야하는가가 가장 중요합니다.\n",
        " 결측치가 얼마나 있는지 조사해서 적절한 다른 데이터로 변경할 수 있어야합니다.\n",
        " 변경할 다른 데이터는\n",
        " 숫자의 경우는 평균값이 될 수 있고 문자의 경우는 최빈값이 될 수 있습니다\n",
        ""
      ],
      "metadata": {
        "id": "wHpBXujgCwom"
      },
      "execution_count": null,
      "outputs": []
    },
    {
      "cell_type": "code",
      "source": [
        "■ 실습예제1.  커미션이 null 인 사원들의 이름과 커미션을 출력하시오 !\n"
      ],
      "metadata": {
        "id": "usbTfpcOCwst"
      },
      "execution_count": null,
      "outputs": []
    },
    {
      "cell_type": "code",
      "source": [
        "emp[  is.na( emp$comm ),  c(\"ename\", \"comm\") ]"
      ],
      "metadata": {
        "id": "RQwuGlQADmKY"
      },
      "execution_count": null,
      "outputs": []
    },
    {
      "cell_type": "code",
      "source": [
        "■ 실습예제2. 커미션이 null 이 아닌 사원들의 이름과 커미션을 출력하시오 !\n"
      ],
      "metadata": {
        "id": "WZ4MZlAgCwv3"
      },
      "execution_count": null,
      "outputs": []
    },
    {
      "cell_type": "code",
      "source": [
        "emp[ ! is.na( emp$comm ),  c(\"ename\", \"comm\") ]"
      ],
      "metadata": {
        "id": "h9-s37omDof2"
      },
      "execution_count": null,
      "outputs": []
    },
    {
      "cell_type": "code",
      "source": [
        "문제7.  사원 테이블에 커미션이  null 인 사원들은 모두 몇명인가 ?\n"
      ],
      "metadata": {
        "id": "ZwvgVsUaCwyn"
      },
      "execution_count": null,
      "outputs": []
    },
    {
      "cell_type": "code",
      "source": [
        "# 답:\n",
        "\n"
      ],
      "metadata": {
        "colab": {
          "base_uri": "https://localhost:8080/"
        },
        "id": "in4YCGg2Df2r",
        "outputId": "04cd1aad-217f-4b9d-ca5a-0b5af5085129"
      },
      "execution_count": 27,
      "outputs": [
        {
          "output_type": "stream",
          "name": "stdout",
          "text": [
            "[1] 10\n"
          ]
        }
      ]
    },
    {
      "cell_type": "code",
      "source": [
        "※ 현장에서 자주사용하는 결측치 검색 팁 !\n",
        "\n",
        " emp 데이터 프레임에 결측치가 어떻게 있는지 한번에 확인하는 방법 !\n"
      ],
      "metadata": {
        "id": "yqoMfSPbCw1P"
      },
      "execution_count": null,
      "outputs": []
    },
    {
      "cell_type": "code",
      "source": [
        "colSums(is.na(emp))"
      ],
      "metadata": {
        "id": "fOozahaVD0N7"
      },
      "execution_count": null,
      "outputs": []
    },
    {
      "cell_type": "code",
      "source": [
        "문제8. tatanic2.csv  데이터를 데이터 프레임으로 생성하고\n",
        "       결측치가 얼마나 있는지 가장 결측치가 많은 컬럼은 어떤건지 확인하시오 !\n",
        "\n",
        " 데이터 있는곳: https://cafe.daum.net/oracleoracle/Soei/22"
      ],
      "metadata": {
        "id": "zskklDPaCw4w"
      },
      "execution_count": null,
      "outputs": []
    },
    {
      "cell_type": "code",
      "source": [
        "#답:\n"
      ],
      "metadata": {
        "id": "ZGjRh4IuDbPL"
      },
      "execution_count": null,
      "outputs": []
    },
    {
      "cell_type": "code",
      "source": [
        "▣ 예제10. 범위 데이터를 검색할 수 있어야해요 !\n",
        "\n",
        " 월급이 1000 에서 3000 사이인 사원들의 이름과 월급을 출력하시오 !\n",
        ""
      ],
      "metadata": {
        "id": "WgYDheRzCw8U"
      },
      "execution_count": null,
      "outputs": []
    },
    {
      "cell_type": "code",
      "source": [
        "emp <- read.csv(\"emp.csv\", header=T)\n",
        "emp[ (emp$sal >= 1000) & (emp$sal <= 3000), c(\"ename\",\"sal\") ]"
      ],
      "metadata": {
        "id": "4SF9YBHsD5v0"
      },
      "execution_count": null,
      "outputs": []
    },
    {
      "cell_type": "code",
      "source": [
        "문제9. 월급이 1000 에서 3000 사이가 아닌 사원들의 이름과 월급을 출력하시오 !"
      ],
      "metadata": {
        "id": "hsA1v7oWEAOP"
      },
      "execution_count": null,
      "outputs": []
    },
    {
      "cell_type": "code",
      "source": [
        "\n"
      ],
      "metadata": {
        "id": "K5PfetC9Cw_Z"
      },
      "execution_count": null,
      "outputs": []
    },
    {
      "cell_type": "code",
      "source": [
        "또는"
      ],
      "metadata": {
        "id": "y02BPa0yEGy-"
      },
      "execution_count": null,
      "outputs": []
    },
    {
      "cell_type": "code",
      "source": [
        "\n"
      ],
      "metadata": {
        "id": "Mfag9PviEC4j"
      },
      "execution_count": null,
      "outputs": []
    },
    {
      "cell_type": "code",
      "source": [
        "문제10. (빅분기 시험용 데이터)  미국 보스톤 집값 데이터 boston 이라는\n",
        "        데이터 프레임으로 생성하시오 !\n",
        "\n",
        "데이터 있는곳 : https://cafe.daum.net/oracleoracle/Soei/25\n"
      ],
      "metadata": {
        "id": "vxv8v4FTCxB_"
      },
      "execution_count": null,
      "outputs": []
    },
    {
      "cell_type": "code",
      "source": [
        "boston <- read.csv(\"boston.csv\", header=T)\n",
        "boston"
      ],
      "metadata": {
        "id": "f-Vh0CTpCxE0"
      },
      "execution_count": null,
      "outputs": []
    },
    {
      "cell_type": "code",
      "source": [
        "문제11. (빅분기 시험용)  보스톤 집값(price)이  10 ~ 30 사이의 해당하는\n",
        "        데이터가 전부 몇건인지 출력하시오 ! (10과 30도 포함시키세요)\n",
        "\n"
      ],
      "metadata": {
        "id": "Gz6vA4KpCxHX"
      },
      "execution_count": null,
      "outputs": []
    },
    {
      "cell_type": "code",
      "source": [
        "# 컬럼명만 추출하기\n",
        "\n",
        "names(boston)"
      ],
      "metadata": {
        "colab": {
          "base_uri": "https://localhost:8080/",
          "height": 34
        },
        "id": "xTqiIvB0CxJ1",
        "outputId": "e33d2980-3aee-4664-8d83-2f5eada87076"
      },
      "execution_count": 31,
      "outputs": [
        {
          "output_type": "display_data",
          "data": {
            "text/html": [
              "<style>\n",
              ".list-inline {list-style: none; margin:0; padding: 0}\n",
              ".list-inline>li {display: inline-block}\n",
              ".list-inline>li:not(:last-child)::after {content: \"\\00b7\"; padding: 0 .5ex}\n",
              "</style>\n",
              "<ol class=list-inline><li>'id'</li><li>'CRIM'</li><li>'ZN'</li><li>'INDUS'</li><li>'CHAS'</li><li>'NOX'</li><li>'RM'</li><li>'AGE'</li><li>'DIS'</li><li>'RAD'</li><li>'TAX'</li><li>'PTRATIO'</li><li>'B'</li><li>'LSTAT'</li><li>'price'</li></ol>\n"
            ],
            "text/markdown": "1. 'id'\n2. 'CRIM'\n3. 'ZN'\n4. 'INDUS'\n5. 'CHAS'\n6. 'NOX'\n7. 'RM'\n8. 'AGE'\n9. 'DIS'\n10. 'RAD'\n11. 'TAX'\n12. 'PTRATIO'\n13. 'B'\n14. 'LSTAT'\n15. 'price'\n\n\n",
            "text/latex": "\\begin{enumerate*}\n\\item 'id'\n\\item 'CRIM'\n\\item 'ZN'\n\\item 'INDUS'\n\\item 'CHAS'\n\\item 'NOX'\n\\item 'RM'\n\\item 'AGE'\n\\item 'DIS'\n\\item 'RAD'\n\\item 'TAX'\n\\item 'PTRATIO'\n\\item 'B'\n\\item 'LSTAT'\n\\item 'price'\n\\end{enumerate*}\n",
            "text/plain": [
              " [1] \"id\"      \"CRIM\"    \"ZN\"      \"INDUS\"   \"CHAS\"    \"NOX\"     \"RM\"     \n",
              " [8] \"AGE\"     \"DIS\"     \"RAD\"     \"TAX\"     \"PTRATIO\" \"B\"       \"LSTAT\"  \n",
              "[15] \"price\"  "
            ]
          },
          "metadata": {}
        }
      ]
    },
    {
      "cell_type": "code",
      "source": [
        "# 집값이 10~30 사이인 데이터 추출하기\n",
        "\n",
        "cnt <- boston[ (boston$price >= 10) & (boston$price <=30 ) , c(\"id\") ]\n",
        "print(length(cnt))\n"
      ],
      "metadata": {
        "id": "W6o0QfwNCxMr"
      },
      "execution_count": null,
      "outputs": []
    },
    {
      "cell_type": "code",
      "source": [
        "▣ 예제11. 특정 철자나 단어를 포함하는 검색하는 방법을 알아야해요 !\n",
        "\n",
        "       SQL                  vs              R\n",
        "\n",
        "1.       in                                  %in%\n",
        "2.      like                                 grep\n",
        "3.      is  null                            is.na\n",
        "4.     between .. and              (emp$sal >= 1000) & (emp$sal <= 3000)\n",
        "\n",
        "# 이름의 첫글자가 A 로 시작하는 사원들의 이름과 월급을 출력하시오 !\n",
        "\n",
        " emp[  grep(\"^A\", emp$ename), c(\"ename\", \"sal\") ]\n",
        "\n",
        "※ 설명:  ^ 는 시작을 나타냅니다.  예:  ^A  ---> A 로 시작하는것\n",
        "            $ 는 끝을 나타냅니다.  예:  A$  ----> A 로 끝나는것\n"
      ],
      "metadata": {
        "id": "nFe9sGmtCxPb"
      },
      "execution_count": null,
      "outputs": []
    },
    {
      "cell_type": "code",
      "source": [
        "문제12.  이름의 끝글자가 T 로 끝나는 사원들의 이름과 월급을 출력하시오 !\n"
      ],
      "metadata": {
        "id": "KkVuIcOhCxSS"
      },
      "execution_count": null,
      "outputs": []
    },
    {
      "cell_type": "code",
      "source": [
        "# 답:\n",
        "\n"
      ],
      "metadata": {
        "collapsed": true,
        "id": "rvgqZ38hCxU7"
      },
      "execution_count": null,
      "outputs": []
    },
    {
      "cell_type": "code",
      "source": [
        "문제13. 이름에 A 가 포함된 사원들의 이름과 월급을 출력하시오 !"
      ],
      "metadata": {
        "id": "aSMPM_-zCxYA"
      },
      "execution_count": null,
      "outputs": []
    },
    {
      "cell_type": "code",
      "source": [
        "# 답:\n",
        "\n"
      ],
      "metadata": {
        "id": "TCYjksS4Cxat"
      },
      "execution_count": null,
      "outputs": []
    },
    {
      "cell_type": "code",
      "source": [
        "문제14. 이름의 두번째 철자가 M 인 사원들의 이름과 월급을 출력하시오 !"
      ],
      "metadata": {
        "id": "CVcduRPNCxdf"
      },
      "execution_count": null,
      "outputs": []
    },
    {
      "cell_type": "code",
      "source": [
        "# 답:\n",
        "\n"
      ],
      "metadata": {
        "id": "JTJk_1OTCxgL"
      },
      "execution_count": null,
      "outputs": []
    },
    {
      "cell_type": "code",
      "source": [
        "문제15. 이름의 세번째 철자가 L 인 사원들의 이름과 월급을 출력하시오 !"
      ],
      "metadata": {
        "id": "hGisMGr1CxjN"
      },
      "execution_count": null,
      "outputs": []
    },
    {
      "cell_type": "code",
      "source": [
        "# 답:\n",
        "\n"
      ],
      "metadata": {
        "id": "y2qvptUHCxmG"
      },
      "execution_count": null,
      "outputs": []
    },
    {
      "cell_type": "code",
      "source": [
        "문제16. emp20.csv 를 불러와서 emp20 이라는 데이터 프레임을 생성하시오 !"
      ],
      "metadata": {
        "id": "bY9F5uY2Cxo6"
      },
      "execution_count": null,
      "outputs": []
    },
    {
      "cell_type": "code",
      "source": [
        "# 답:\n",
        "\n"
      ],
      "metadata": {
        "id": "V3VUHx6HCxr7"
      },
      "execution_count": null,
      "outputs": []
    },
    {
      "cell_type": "code",
      "source": [
        "문제17. 성씨가 김씨인 학생의 이름과 나이를 출력하시오 !"
      ],
      "metadata": {
        "id": "zmNhahRSCxui"
      },
      "execution_count": null,
      "outputs": []
    },
    {
      "cell_type": "code",
      "source": [
        "# 답:\n",
        "\n"
      ],
      "metadata": {
        "id": "VNqZ05glCxxL"
      },
      "execution_count": null,
      "outputs": []
    },
    {
      "cell_type": "code",
      "source": [
        "▣ 예제12. 데이터에서 중복을 제거 할 수 있어야해요 !\n",
        "\n",
        "       SQL              vs                 R\n",
        "\n",
        "     distinct                             unique"
      ],
      "metadata": {
        "id": "-zYY8Y7uCx0E"
      },
      "execution_count": null,
      "outputs": []
    },
    {
      "cell_type": "code",
      "source": [
        "# 직업을 출력하는데 중복을 제거해서 출력하시오 !\n",
        "\n",
        " unique(emp$job)"
      ],
      "metadata": {
        "id": "8mv1-mPrCx3D"
      },
      "execution_count": null,
      "outputs": []
    },
    {
      "cell_type": "code",
      "source": [
        "# 위의 결과를 오라클 스타일로 보고 싶다면 ?\n",
        "\n",
        " library(data.table)\n",
        " data.table( '직업' = unique(emp$job) )"
      ],
      "metadata": {
        "id": "FQo_UUxmCx6D"
      },
      "execution_count": null,
      "outputs": []
    },
    {
      "cell_type": "code",
      "source": [
        "문제18.  직업이 SALESMAN 인 사원들의 부서번호를 출력하는데 중복을 제거해서 출력하시오 !"
      ],
      "metadata": {
        "id": "QRg_0dwhCx8_"
      },
      "execution_count": null,
      "outputs": []
    },
    {
      "cell_type": "code",
      "source": [
        "# 답:\n",
        "\n"
      ],
      "metadata": {
        "id": "en46UnqNCx_7"
      },
      "execution_count": null,
      "outputs": []
    },
    {
      "cell_type": "code",
      "source": [
        "문제19.  중고차(usedcars.csv) 를 불러와서 car 라는 데이터 프레임을 생성하시오\n",
        "\n",
        " 데이터 있는곳 :  https://cafe.daum.net/oracleoracle/Soei/11"
      ],
      "metadata": {
        "id": "Naxx8ZEhCyCe"
      },
      "execution_count": null,
      "outputs": []
    },
    {
      "cell_type": "code",
      "source": [
        "# 답:\n",
        "\n"
      ],
      "metadata": {
        "id": "7FutL9zcCyFl"
      },
      "execution_count": null,
      "outputs": []
    },
    {
      "cell_type": "code",
      "source": [
        "문제20. (빅분기 문제) 중고차(usedcar.sv) 에서 모델명을 출력하는데 중복을 제거해서 출력하시오 !"
      ],
      "metadata": {
        "id": "oWXCLjiZCyIP"
      },
      "execution_count": null,
      "outputs": []
    },
    {
      "cell_type": "code",
      "source": [
        "# 답:\n",
        "\n"
      ],
      "metadata": {
        "id": "Xa9fhWLtCyLL"
      },
      "execution_count": null,
      "outputs": []
    },
    {
      "cell_type": "code",
      "source": [
        "▣ 예제13. 데이터를 정렬해서 출력할 수 있어야해요 !\n",
        "\n",
        "        SQL                    vs                         R\n",
        "\n",
        "     order  by                               dataframe 에 내장된 order 함수를 사용\n",
        "\n",
        "  좀더 쉽게 하려면 doBy 패키지를 설치하고  orderBy 함수를 이용해서 정렬합니다.\n",
        "\n",
        "문법:  이름과 월급을 출력하는데 월급이 높은 사원부터 출력하시오 !\n",
        "\n",
        " emp[  order( emp$sal, decreasing=T ), c(\"ename\",\"sal\") ]\n"
      ],
      "metadata": {
        "id": "IIJBXtVJCyOO"
      },
      "execution_count": null,
      "outputs": []
    },
    {
      "cell_type": "code",
      "source": [
        "문제21.  emp20 에서 이름과 나이를 출력하는데 나이가 높은 학생부터 출력하시오 !"
      ],
      "metadata": {
        "id": "baf7MkpQH3XG"
      },
      "execution_count": null,
      "outputs": []
    },
    {
      "cell_type": "code",
      "source": [
        "# 답:\n",
        "\n"
      ],
      "metadata": {
        "id": "l--981C5H3ag"
      },
      "execution_count": null,
      "outputs": []
    },
    {
      "cell_type": "code",
      "source": [
        "문제22. 내가 현재 접속한 R 세션에서 활성화 되어있는 변수 리스트를 출력하시오!"
      ],
      "metadata": {
        "id": "StWAQ1VNH3eF"
      },
      "execution_count": null,
      "outputs": []
    },
    {
      "cell_type": "code",
      "source": [
        "# 답:\n",
        "\n"
      ],
      "metadata": {
        "id": "irVnvQJOH3hO"
      },
      "execution_count": null,
      "outputs": []
    },
    {
      "cell_type": "code",
      "source": [
        "문제23.  emp20 변수를 현재 작업공간에서 지워버리고 싶다면 ?"
      ],
      "metadata": {
        "id": "cYf0io2TH3k3"
      },
      "execution_count": null,
      "outputs": []
    },
    {
      "cell_type": "code",
      "source": [
        "# 답:\n",
        "\n"
      ],
      "metadata": {
        "id": "o_GohWNAH3oa"
      },
      "execution_count": null,
      "outputs": []
    },
    {
      "cell_type": "code",
      "source": [
        "문제24.  R 을 사용하다보면 기존에 남아있는 변수로 인해서 데이터 분석 결과가\n",
        "         잘못 나오는 경우가 있습니다. 그럴때는 데이터 분석하기에 앞서서\n",
        "         변수들을 모두 지우고 코드를 시작할 필요가 있습니다. 변수를 모두 지우는\n",
        "         명령어는 무엇인가요 ?"
      ],
      "metadata": {
        "id": "LQMuUzK0H3rp"
      },
      "execution_count": null,
      "outputs": []
    },
    {
      "cell_type": "code",
      "source": [
        "# 답:\n",
        "\n"
      ],
      "metadata": {
        "id": "RVXve5C9H3vX"
      },
      "execution_count": null,
      "outputs": []
    },
    {
      "cell_type": "code",
      "source": [
        "#문법:  doBy 패키지를 설치하고 사용해보겠습니다.\n",
        "\n",
        "install.packages(\"doBy\")\n",
        "library(doBy)\n",
        "\n",
        "emp <- read.csv(\"emp.csv\", header=T)\n",
        "emp20 <- read.csv(\"emp20.csv\", header=T, fileEncoding=\"euc-kr\")\n"
      ],
      "metadata": {
        "id": "V6E2O5DsH3yf"
      },
      "execution_count": null,
      "outputs": []
    },
    {
      "cell_type": "code",
      "source": [],
      "metadata": {
        "id": "aMq-b1ifH31n"
      },
      "execution_count": null,
      "outputs": []
    },
    {
      "cell_type": "code",
      "source": [],
      "metadata": {
        "id": "fclr-1TCH35B"
      },
      "execution_count": null,
      "outputs": []
    },
    {
      "cell_type": "code",
      "source": [],
      "metadata": {
        "id": "5PIdHuYEH38A"
      },
      "execution_count": null,
      "outputs": []
    },
    {
      "cell_type": "code",
      "source": [],
      "metadata": {
        "id": "-vLt2z9VH3_Q"
      },
      "execution_count": null,
      "outputs": []
    },
    {
      "cell_type": "code",
      "source": [],
      "metadata": {
        "id": "gzyVfaerH4CZ"
      },
      "execution_count": null,
      "outputs": []
    },
    {
      "cell_type": "code",
      "source": [],
      "metadata": {
        "id": "YUPA5W0TH4Fq"
      },
      "execution_count": null,
      "outputs": []
    },
    {
      "cell_type": "code",
      "source": [],
      "metadata": {
        "id": "RSrC_xcpH4I4"
      },
      "execution_count": null,
      "outputs": []
    },
    {
      "cell_type": "code",
      "source": [],
      "metadata": {
        "id": "v3-ApbGdH4Lv"
      },
      "execution_count": null,
      "outputs": []
    },
    {
      "cell_type": "code",
      "source": [],
      "metadata": {
        "id": "y2TI_G7zH4O2"
      },
      "execution_count": null,
      "outputs": []
    }
  ]
}